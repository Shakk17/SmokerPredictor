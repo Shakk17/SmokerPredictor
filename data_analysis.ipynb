{
 "cells": [
  {
   "cell_type": "markdown",
   "metadata": {},
   "source": [
    " # DATA ANALYSIS\n"
   ]
  },
  {
   "cell_type": "code",
   "execution_count": 676,
   "metadata": {
    "pycharm": {
     "is_executing": false
    }
   },
   "outputs": [],
   "source": [
    "import pandas as pd\n",
    "import numpy as np\n",
    "\n",
    "from sklearn.impute import SimpleImputer\n",
    "from sklearn.preprocessing import LabelEncoder"
   ]
  },
  {
   "cell_type": "markdown",
   "metadata": {},
   "source": [
    "We load the data, splitting it into features and target variable."
   ]
  },
  {
   "cell_type": "code",
   "execution_count": 677,
   "metadata": {
    "pycharm": {
     "is_executing": false
    }
   },
   "outputs": [],
   "source": [
    "data = pd.read_csv(\"data/responses.csv\")\n",
    "x = data.drop(\"Smoking\", axis=1)\n",
    "y = data[\"Smoking\"]"
   ]
  },
  {
   "cell_type": "markdown",
   "metadata": {},
   "source": [
    "Quick look at how the data is composed."
   ]
  },
  {
   "cell_type": "code",
   "execution_count": 678,
   "metadata": {},
   "outputs": [
    {
     "name": "stdout",
     "output_type": "stream",
     "text": [
      "<class 'pandas.core.frame.DataFrame'>\n",
      "RangeIndex: 1010 entries, 0 to 1009\n",
      "Columns: 149 entries, Music to House - block of flats\n",
      "dtypes: float64(134), int64(5), object(10)\n",
      "memory usage: 1.1+ MB\n"
     ]
    }
   ],
   "source": [
    "x.info()"
   ]
  },
  {
   "cell_type": "code",
   "execution_count": 679,
   "metadata": {},
   "outputs": [
    {
     "data": {
      "text/html": [
       "<div>\n",
       "<style scoped>\n",
       "    .dataframe tbody tr th:only-of-type {\n",
       "        vertical-align: middle;\n",
       "    }\n",
       "\n",
       "    .dataframe tbody tr th {\n",
       "        vertical-align: top;\n",
       "    }\n",
       "\n",
       "    .dataframe thead th {\n",
       "        text-align: right;\n",
       "    }\n",
       "</style>\n",
       "<table border=\"1\" class=\"dataframe\">\n",
       "  <thead>\n",
       "    <tr style=\"text-align: right;\">\n",
       "      <th></th>\n",
       "      <th>Alcohol</th>\n",
       "      <th>Punctuality</th>\n",
       "      <th>Lying</th>\n",
       "      <th>Internet usage</th>\n",
       "      <th>Gender</th>\n",
       "      <th>Left - right handed</th>\n",
       "      <th>Education</th>\n",
       "      <th>Only child</th>\n",
       "      <th>Village - town</th>\n",
       "      <th>House - block of flats</th>\n",
       "    </tr>\n",
       "  </thead>\n",
       "  <tbody>\n",
       "    <tr>\n",
       "      <th>count</th>\n",
       "      <td>1005</td>\n",
       "      <td>1008</td>\n",
       "      <td>1008</td>\n",
       "      <td>1010</td>\n",
       "      <td>1004</td>\n",
       "      <td>1007</td>\n",
       "      <td>1009</td>\n",
       "      <td>1008</td>\n",
       "      <td>1006</td>\n",
       "      <td>1006</td>\n",
       "    </tr>\n",
       "    <tr>\n",
       "      <th>unique</th>\n",
       "      <td>3</td>\n",
       "      <td>3</td>\n",
       "      <td>4</td>\n",
       "      <td>4</td>\n",
       "      <td>2</td>\n",
       "      <td>2</td>\n",
       "      <td>6</td>\n",
       "      <td>2</td>\n",
       "      <td>2</td>\n",
       "      <td>2</td>\n",
       "    </tr>\n",
       "    <tr>\n",
       "      <th>top</th>\n",
       "      <td>social drinker</td>\n",
       "      <td>i am always on time</td>\n",
       "      <td>sometimes</td>\n",
       "      <td>few hours a day</td>\n",
       "      <td>female</td>\n",
       "      <td>right handed</td>\n",
       "      <td>secondary school</td>\n",
       "      <td>no</td>\n",
       "      <td>city</td>\n",
       "      <td>block of flats</td>\n",
       "    </tr>\n",
       "    <tr>\n",
       "      <th>freq</th>\n",
       "      <td>659</td>\n",
       "      <td>399</td>\n",
       "      <td>549</td>\n",
       "      <td>744</td>\n",
       "      <td>593</td>\n",
       "      <td>906</td>\n",
       "      <td>621</td>\n",
       "      <td>754</td>\n",
       "      <td>707</td>\n",
       "      <td>595</td>\n",
       "    </tr>\n",
       "  </tbody>\n",
       "</table>\n",
       "</div>"
      ],
      "text/plain": [
       "               Alcohol          Punctuality      Lying   Internet usage  \\\n",
       "count             1005                 1008       1008             1010   \n",
       "unique               3                    3          4                4   \n",
       "top     social drinker  i am always on time  sometimes  few hours a day   \n",
       "freq               659                  399        549              744   \n",
       "\n",
       "        Gender Left - right handed         Education Only child  \\\n",
       "count     1004                1007              1009       1008   \n",
       "unique       2                   2                 6          2   \n",
       "top     female        right handed  secondary school         no   \n",
       "freq       593                 906               621        754   \n",
       "\n",
       "       Village - town House - block of flats  \n",
       "count            1006                   1006  \n",
       "unique              2                      2  \n",
       "top              city         block of flats  \n",
       "freq              707                    595  "
      ]
     },
     "execution_count": 679,
     "metadata": {},
     "output_type": "execute_result"
    }
   ],
   "source": [
    "x.describe(exclude=np.number)"
   ]
  },
  {
   "cell_type": "markdown",
   "metadata": {},
   "source": [
    "# Encoding of categorical variables"
   ]
  },
  {
   "cell_type": "markdown",
   "metadata": {},
   "source": [
    "We transform categorical variables into numerical ones."
   ]
  },
  {
   "cell_type": "code",
   "execution_count": 680,
   "metadata": {},
   "outputs": [],
   "source": [
    "x[\"Alcohol\"] = x[\"Alcohol\"].map({\"never\": 0, \"social drinker\": 1, \"drink a lot\": 2})\n",
    "x[\"Punctuality\"] = x[\"Punctuality\"].map({\"i am often early\": 0, \"i am always on time\": 1, \"i am often running late\": 2})\n",
    "x[\"Lying\"] = x[\"Lying\"].map({\"never\": 0, \"sometimes\": 1, \"only to avoid hurting someone\": 2, \"everytime it suits me\": 3})\n",
    "x[\"Internet usage\"] = x[\"Internet usage\"].map({\n",
    "    \"no time at all\": 0, \n",
    "    \"less than an hour a day\": 1, \n",
    "    \"few hours a day\": 2, \n",
    "    \"most of the day\": 3})\n",
    "x[\"Education\"] = x[\"Education\"].map({\n",
    "    \"currently a primary school pupil\": 0,\n",
    "    \"primary school\": 1, \n",
    "    \"secondary school\": 2, \n",
    "    \"college/bachelor degree\": 3, \n",
    "    \"masters degree\": 4,\n",
    "    \"doctorate degree\": 5})"
   ]
  },
  {
   "cell_type": "code",
   "execution_count": 681,
   "metadata": {},
   "outputs": [],
   "source": [
    "cat_var_mask = x.dtypes == object\n",
    "cat_var = x.columns[cat_var_mask]\n",
    "x = pd.get_dummies(x)"
   ]
  },
  {
   "cell_type": "markdown",
   "metadata": {},
   "source": [
    "# Missing values"
   ]
  },
  {
   "cell_type": "markdown",
   "metadata": {},
   "source": [
    "Let's start from the target. How many values are missing?"
   ]
  },
  {
   "cell_type": "code",
   "execution_count": 682,
   "metadata": {},
   "outputs": [
    {
     "data": {
      "text/plain": [
       "8"
      ]
     },
     "execution_count": 682,
     "metadata": {},
     "output_type": "execute_result"
    }
   ],
   "source": [
    "y.isnull().sum()"
   ]
  },
  {
   "cell_type": "markdown",
   "metadata": {},
   "source": [
    "In the rows with a missing value for target, what other values are missing?"
   ]
  },
  {
   "cell_type": "code",
   "execution_count": 683,
   "metadata": {},
   "outputs": [
    {
     "name": "stdout",
     "output_type": "stream",
     "text": [
      "Index: 130 - Missing:  Documentary - Alcohol - \n",
      "Index: 149 - Missing:  \n",
      "Index: 525 - Missing:  Fun with friends - Friends versus money - Hypochondria - \n",
      "Index: 567 - Missing:  Documentary - Biology - Giving - Charity - Spending on looks - \n",
      "Index: 629 - Missing:  Alcohol - Healthy eating - \n",
      "Index: 708 - Missing:  Alcohol - Healthy eating - \n",
      "Index: 763 - Missing:  Geography - \n",
      "Index: 980 - Missing:  Passive sport - \n"
     ]
    }
   ],
   "source": [
    "for index, row in x[y.isnull()].iterrows():\n",
    "    print(\"Index: %d - Missing: \"% index, end=\" \")\n",
    "    for col in row[row.isnull()].index:\n",
    "        print(col, end=\" - \")\n",
    "    print()"
   ]
  },
  {
   "cell_type": "markdown",
   "metadata": {
    "pycharm": {}
   },
   "source": [
    "We delete the rows with missing values in target."
   ]
  },
  {
   "cell_type": "code",
   "execution_count": 684,
   "metadata": {},
   "outputs": [
    {
     "name": "stdout",
     "output_type": "stream",
     "text": [
      "Missing values in target: 0\n"
     ]
    }
   ],
   "source": [
    "x = x.drop(x[y.isnull()].index)\n",
    "y = y.drop(y[y.isnull()].index)\n",
    "print(\"Missing values in target: %d\" % y.isnull().sum())"
   ]
  },
  {
   "cell_type": "code",
   "execution_count": 685,
   "metadata": {},
   "outputs": [
    {
     "data": {
      "text/plain": [
       "True"
      ]
     },
     "execution_count": 685,
     "metadata": {},
     "output_type": "execute_result"
    }
   ],
   "source": [
    "# Check for shape consistency\n",
    "x.shape[0] == y.shape[0]"
   ]
  },
  {
   "cell_type": "markdown",
   "metadata": {},
   "source": [
    "Now we map all the smoking categories with appropriate values."
   ]
  },
  {
   "cell_type": "code",
   "execution_count": 686,
   "metadata": {
    "pycharm": {
     "is_executing": false
    }
   },
   "outputs": [
    {
     "name": "stdout",
     "output_type": "stream",
     "text": [
      "1    430\n",
      "0    208\n",
      "4    189\n",
      "3    175\n",
      "Name: Smoking, dtype: int64\n"
     ]
    }
   ],
   "source": [
    "smoker_mapping = {\"never smoked\": 0, \"tried smoking\": 1, \"former smoker\": 3, \"current smoker\": 4}\n",
    "y = y.map(smoker_mapping)\n",
    "print(y.value_counts())"
   ]
  },
  {
   "cell_type": "markdown",
   "metadata": {},
   "source": [
    "Let's check how many missing values do we have."
   ]
  },
  {
   "cell_type": "code",
   "execution_count": 687,
   "metadata": {},
   "outputs": [
    {
     "data": {
      "text/plain": [
       "Height                                   20\n",
       "Weight                                   20\n",
       "Passive sport                            14\n",
       "Chemistry                                10\n",
       "Punk                                      8\n",
       "Latino                                    8\n",
       "Geography                                 8\n",
       "Theatre                                   8\n",
       "Compassion to animals                     7\n",
       "Final judgement                           7\n",
       "Countryside, outdoors                     7\n",
       "Gardening                                 7\n",
       "Criminal damage                           7\n",
       "Classical music                           7\n",
       "Age                                       7\n",
       "Reggae, Ska                               7\n",
       "Rock n roll                               7\n",
       "Alternative                               7\n",
       "Daily events                              7\n",
       "Techno, Trance                            7\n",
       "Art exhibitions                           6\n",
       "Reading                                   6\n",
       "Writing                                   6\n",
       "Swing, Jazz                               6\n",
       "Movies                                    6\n",
       "PC                                        6\n",
       "Documentary                               6\n",
       "Number of siblings                        6\n",
       "Rock                                      6\n",
       "Science and technology                    6\n",
       "                                         ..\n",
       "Healthy eating                            1\n",
       "Opera                                     1\n",
       "Thriller                                  1\n",
       "Storm                                     1\n",
       "Keeping promises                          1\n",
       "Musical instruments                       1\n",
       "Fear of public speaking                   1\n",
       "Loneliness                                1\n",
       "Health                                    1\n",
       "Law                                       1\n",
       "Politics                                  1\n",
       "Ageing                                    1\n",
       "Education                                 1\n",
       "Dangerous dogs                            1\n",
       "Left - right handed_left handed           0\n",
       "Only child_no                             0\n",
       "Only child_yes                            0\n",
       "Village - town_village                    0\n",
       "Village - town_city                       0\n",
       "Left - right handed_right handed          0\n",
       "Snakes                                    0\n",
       "Gender_male                               0\n",
       "Gender_female                             0\n",
       "Spending on gadgets                       0\n",
       "Internet usage                            0\n",
       "Number of friends                         0\n",
       "Dreams                                    0\n",
       "Eating to survive                         0\n",
       "House - block of flats_block of flats     0\n",
       "House - block of flats_house/bungalow     0\n",
       "Length: 154, dtype: int64"
      ]
     },
     "execution_count": 687,
     "metadata": {},
     "output_type": "execute_result"
    }
   ],
   "source": [
    "x.isnull().sum().sort_values(ascending=False)"
   ]
  },
  {
   "cell_type": "markdown",
   "metadata": {},
   "source": [
    "Are there people that did not compile the questionary in a thorough way?"
   ]
  },
  {
   "cell_type": "code",
   "execution_count": 688,
   "metadata": {},
   "outputs": [
    {
     "data": {
      "text/plain": [
       "count    1002.000000\n",
       "mean        0.563872\n",
       "std         1.108685\n",
       "min         0.000000\n",
       "25%         0.000000\n",
       "50%         0.000000\n",
       "75%         1.000000\n",
       "max         8.000000\n",
       "dtype: float64"
      ]
     },
     "execution_count": 688,
     "metadata": {},
     "output_type": "execute_result"
    }
   ],
   "source": [
    "miss = x.apply(lambda x: len(x) - x.count(), axis=1)\n",
    "miss.describe()"
   ]
  },
  {
   "cell_type": "markdown",
   "metadata": {},
   "source": [
    "Missing values may indicate questionaries compiled quickly and carelessly. Given that the number of questionaries with more than 2 missing answers is relatively low, we remove them."
   ]
  },
  {
   "cell_type": "code",
   "execution_count": 689,
   "metadata": {},
   "outputs": [
    {
     "data": {
      "text/plain": [
       "(944, 154)"
      ]
     },
     "execution_count": 689,
     "metadata": {},
     "output_type": "execute_result"
    }
   ],
   "source": [
    "x = x.loc[miss <= 2]\n",
    "y = y.loc[miss <= 2]\n",
    "x.shape"
   ]
  },
  {
   "cell_type": "code",
   "execution_count": 690,
   "metadata": {},
   "outputs": [
    {
     "data": {
      "text/plain": [
       "Height                                   11\n",
       "Weight                                   10\n",
       "Passive sport                             8\n",
       "Criminal damage                           6\n",
       "Geography                                 6\n",
       "Chemistry                                 6\n",
       "Theatre                                   6\n",
       "Classical music                           5\n",
       "Punk                                      5\n",
       "Compassion to animals                     5\n",
       "Daily events                              5\n",
       "Gardening                                 5\n",
       "Workaholism                               4\n",
       "Latino                                    4\n",
       "Writing                                   4\n",
       "Techno, Trance                            4\n",
       "Spiders                                   4\n",
       "Final judgement                           4\n",
       "Art exhibitions                           4\n",
       "Pets                                      4\n",
       "Alternative                               4\n",
       "Rock n roll                               4\n",
       "Rock                                      4\n",
       "Documentary                               4\n",
       "Reggae, Ska                               4\n",
       "Movies                                    4\n",
       "Cars                                      4\n",
       "Empathy                                   4\n",
       "Psychology                                3\n",
       "Judgment calls                            3\n",
       "                                         ..\n",
       "Heights                                   1\n",
       "Storm                                     1\n",
       "Flying                                    1\n",
       "Fun with friends                          1\n",
       "Shopping                                  1\n",
       "Education                                 1\n",
       "Number of siblings                        0\n",
       "Left - right handed_right handed          0\n",
       "Gender_female                             0\n",
       "Gender_male                               0\n",
       "Left - right handed_left handed           0\n",
       "Only child_no                             0\n",
       "Only child_yes                            0\n",
       "Village - town_city                       0\n",
       "Village - town_village                    0\n",
       "Spending on gadgets                       0\n",
       "Charity                                   0\n",
       "Shopping centres                          0\n",
       "Internet usage                            0\n",
       "Comedy                                    0\n",
       "Lying                                     0\n",
       "Number of friends                         0\n",
       "Dreams                                    0\n",
       "God                                       0\n",
       "Eating to survive                         0\n",
       "House - block of flats_block of flats     0\n",
       "Fear of public speaking                   0\n",
       "Law                                       0\n",
       "Snakes                                    0\n",
       "House - block of flats_house/bungalow     0\n",
       "Length: 154, dtype: int64"
      ]
     },
     "execution_count": 690,
     "metadata": {},
     "output_type": "execute_result"
    }
   ],
   "source": [
    "x.isnull().sum().sort_values(ascending=False)"
   ]
  },
  {
   "cell_type": "markdown",
   "metadata": {},
   "source": [
    "There are still a lot of missing values, so we will try to impute those.\n",
    "We substitute missing values with the most frequent value in its column."
   ]
  },
  {
   "cell_type": "code",
   "execution_count": 691,
   "metadata": {},
   "outputs": [],
   "source": [
    "imp = SimpleImputer(missing_values=np.nan, strategy='most_frequent')"
   ]
  },
  {
   "cell_type": "code",
   "execution_count": 692,
   "metadata": {},
   "outputs": [
    {
     "data": {
      "text/plain": [
       "House - block of flats_house/bungalow    0\n",
       "Religion                                 0\n",
       "Gardening                                0\n",
       "Active sport                             0\n",
       "Passive sport                            0\n",
       "Writing                                  0\n",
       "Musical instruments                      0\n",
       "Dancing                                  0\n",
       "Countryside, outdoors                    0\n",
       "Art exhibitions                          0\n",
       "Economy Management                       0\n",
       "Cars                                     0\n",
       "Law                                      0\n",
       "Medicine                                 0\n",
       "Foreign languages                        0\n",
       "Geography                                0\n",
       "Reading                                  0\n",
       "Chemistry                                0\n",
       "Celebrities                              0\n",
       "Shopping                                 0\n",
       "Science and technology                   0\n",
       "Theatre                                  0\n",
       "Healthy eating                           0\n",
       "Alcohol                                  0\n",
       "Fear of public speaking                  0\n",
       "Dangerous dogs                           0\n",
       "Ageing                                   0\n",
       "Rats                                     0\n",
       "Snakes                                   0\n",
       "Spiders                                  0\n",
       "                                        ..\n",
       "Decision making                          0\n",
       "Criminal damage                          0\n",
       "Fake                                     0\n",
       "Funniness                                0\n",
       "Friends versus money                     0\n",
       "Loss of interest                         0\n",
       "Keeping promises                         0\n",
       "Reliability                              0\n",
       "Final judgement                          0\n",
       "Thinking ahead                           0\n",
       "Eating to survive                        0\n",
       "Compassion to animals                    0\n",
       "Achievements                             0\n",
       "Borrowed stuff                           0\n",
       "Socializing                              0\n",
       "Appearence and gestures                  0\n",
       "Mood swings                              0\n",
       "New environment                          0\n",
       "Waiting                                  0\n",
       "Lying                                    0\n",
       "Punctuality                              0\n",
       "Number of friends                        0\n",
       "Charity                                  0\n",
       "Dreams                                   0\n",
       "God                                      0\n",
       "Changing the past                        0\n",
       "Health                                   0\n",
       "Cheating in school                       0\n",
       "Loneliness                               0\n",
       "Music                                    0\n",
       "Length: 154, dtype: int64"
      ]
     },
     "execution_count": 692,
     "metadata": {},
     "output_type": "execute_result"
    }
   ],
   "source": [
    "x = pd.DataFrame(data=imp.fit_transform(x, y), columns=x.columns, index=x.index)\n",
    "x.isnull().sum().sort_values(ascending=False)"
   ]
  },
  {
   "cell_type": "markdown",
   "metadata": {},
   "source": [
    "Now we save the cleaned data into a file, ready to be used for modeling."
   ]
  },
  {
   "cell_type": "code",
   "execution_count": 693,
   "metadata": {},
   "outputs": [],
   "source": [
    "x['Smoking'] = y\n",
    "x.to_csv(\"data/clean_data.csv\")"
   ]
  }
 ],
 "metadata": {
  "kernelspec": {
   "display_name": "Python 3",
   "language": "python",
   "name": "python3"
  },
  "language_info": {
   "codemirror_mode": {
    "name": "ipython",
    "version": 3
   },
   "file_extension": ".py",
   "mimetype": "text/x-python",
   "name": "python",
   "nbconvert_exporter": "python",
   "pygments_lexer": "ipython3",
   "version": "3.7.3"
  }
 },
 "nbformat": 4,
 "nbformat_minor": 1
}
