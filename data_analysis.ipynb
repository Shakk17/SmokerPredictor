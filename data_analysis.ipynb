{
 "cells": [
  {
   "cell_type": "markdown",
   "metadata": {},
   "source": [
    " # DATA ANALYSIS\n"
   ]
  },
  {
   "cell_type": "code",
   "execution_count": 3,
   "metadata": {
    "pycharm": {
     "is_executing": false
    }
   },
   "outputs": [],
   "source": [
    "import pandas as pd\n",
    "import numpy as np\n",
    "\n",
    "# Visualization\n",
    "import seaborn as sns\n",
    "import matplotlib.pyplot as plt\n",
    "%matplotlib inline\n",
    "\n",
    "# Preprocessing\n",
    "from sklearn.impute import SimpleImputer\n",
    "from sklearn.preprocessing import LabelEncoder"
   ]
  },
  {
   "cell_type": "markdown",
   "metadata": {},
   "source": [
    "### Acquiring data"
   ]
  },
  {
   "cell_type": "code",
   "execution_count": 4,
   "metadata": {
    "pycharm": {
     "is_executing": false
    }
   },
   "outputs": [],
   "source": [
    "data = pd.read_csv(\"data/responses.csv\")"
   ]
  },
  {
   "cell_type": "markdown",
   "metadata": {},
   "source": [
    "Quick look at how the data is composed."
   ]
  },
  {
   "cell_type": "code",
   "execution_count": 5,
   "metadata": {},
   "outputs": [
    {
     "name": "stdout",
     "output_type": "stream",
     "text": [
      "<class 'pandas.core.frame.DataFrame'>\n",
      "RangeIndex: 1010 entries, 0 to 1009\n",
      "Columns: 150 entries, Music to House - block of flats\n",
      "dtypes: float64(134), int64(5), object(11)\n",
      "memory usage: 1.2+ MB\n"
     ]
    }
   ],
   "source": [
    "data.info()"
   ]
  },
  {
   "cell_type": "markdown",
   "metadata": {},
   "source": [
    "### Target variable"
   ]
  },
  {
   "cell_type": "markdown",
   "metadata": {},
   "source": [
    "We try to determinate if a person has been smoking during a period of his life."
   ]
  },
  {
   "cell_type": "code",
   "execution_count": 6,
   "metadata": {},
   "outputs": [],
   "source": [
    "data[\"Smoker\"] = data[\"Smoking\"].map({\n",
    "    \"never smoked\": 0, \n",
    "    \"tried smoking\": 0, \n",
    "    \"former smoker\": 1, \n",
    "    \"current smoker\": 1})\n",
    "data.drop(\"Smoking\", axis=1, inplace=True)"
   ]
  },
  {
   "cell_type": "code",
   "execution_count": 7,
   "metadata": {},
   "outputs": [
    {
     "name": "stdout",
     "output_type": "stream",
     "text": [
      "In our survey the smokers are the 36.3% of the population.\n"
     ]
    }
   ],
   "source": [
    "print(\"In our survey the smokers are the %.1f%% of the population.\" % (data[\"Smoker\"].mean()*100))"
   ]
  },
  {
   "cell_type": "markdown",
   "metadata": {},
   "source": [
    "How many missing values does our target variable have?"
   ]
  },
  {
   "cell_type": "code",
   "execution_count": 8,
   "metadata": {},
   "outputs": [
    {
     "name": "stdout",
     "output_type": "stream",
     "text": [
      "Number of missing values in target: 8\n"
     ]
    }
   ],
   "source": [
    "print(\"Number of missing values in target: %d\" % data[\"Smoker\"].isnull().sum())"
   ]
  },
  {
   "cell_type": "markdown",
   "metadata": {},
   "source": [
    "In the rows with a missing value for the target variable \"Smoker\", which values are missing?"
   ]
  },
  {
   "cell_type": "code",
   "execution_count": 9,
   "metadata": {},
   "outputs": [
    {
     "name": "stdout",
     "output_type": "stream",
     "text": [
      "Index: 130 - Missing:  Documentary - Alcohol - Smoker - \n",
      "Index: 149 - Missing:  Smoker - \n",
      "Index: 525 - Missing:  Fun with friends - Friends versus money - Hypochondria - Smoker - \n",
      "Index: 567 - Missing:  Documentary - Biology - Giving - Charity - Spending on looks - Smoker - \n",
      "Index: 629 - Missing:  Alcohol - Healthy eating - Smoker - \n",
      "Index: 708 - Missing:  Alcohol - Healthy eating - Smoker - \n",
      "Index: 763 - Missing:  Geography - Smoker - \n",
      "Index: 980 - Missing:  Passive sport - Smoker - \n",
      "----------------------------------------\n",
      "Smoker: 8\n",
      "Alcohol: 3\n",
      "Documentary: 2\n",
      "Healthy eating: 2\n",
      "Fun with friends: 1\n",
      "Friends versus money: 1\n",
      "Hypochondria: 1\n",
      "Biology: 1\n",
      "Giving: 1\n",
      "Charity: 1\n",
      "Spending on looks: 1\n",
      "Geography: 1\n",
      "Passive sport: 1\n"
     ]
    }
   ],
   "source": [
    "values_missing = dict()\n",
    "for index, row in data[data[\"Smoker\"].isnull()].iterrows():\n",
    "    print(\"Index: %d - Missing: \"% index, end=\" \")\n",
    "    for col in row[row.isnull()].index:\n",
    "        print(col, end=\" - \")\n",
    "        if col in values_missing:\n",
    "            values_missing[col] += 1\n",
    "        else:\n",
    "            values_missing[col] = 1\n",
    "    print()\n",
    "print(\"-\" * 40)\n",
    "for key in sorted(values_missing, key=values_missing.get, reverse=True):\n",
    "    print(\"%s: %d\" % (key, values_missing[key]))"
   ]
  },
  {
   "cell_type": "markdown",
   "metadata": {},
   "source": [
    "Interesting to notice:\n",
    "- Three people that chose to not indicate their smoking habits also avoided talking about alcohol consumption.\n",
    "- Two of them also avoided talking about health habits."
   ]
  },
  {
   "cell_type": "markdown",
   "metadata": {},
   "source": [
    "We remove the rows with missing values for the target."
   ]
  },
  {
   "cell_type": "code",
   "execution_count": 10,
   "metadata": {},
   "outputs": [
    {
     "name": "stdout",
     "output_type": "stream",
     "text": [
      "Number of missing values in target: 0\n"
     ]
    }
   ],
   "source": [
    "data = data.drop(data[data[\"Smoker\"].isnull()].index)\n",
    "print(\"Number of missing values in target: %d\" % data[\"Smoker\"].isnull().sum())"
   ]
  },
  {
   "cell_type": "markdown",
   "metadata": {},
   "source": [
    "### Encoding of categorical variables"
   ]
  },
  {
   "cell_type": "markdown",
   "metadata": {},
   "source": [
    "We transform categorical variables into numerical ones."
   ]
  },
  {
   "cell_type": "code",
   "execution_count": 11,
   "metadata": {},
   "outputs": [
    {
     "data": {
      "text/html": [
       "<div>\n",
       "<style scoped>\n",
       "    .dataframe tbody tr th:only-of-type {\n",
       "        vertical-align: middle;\n",
       "    }\n",
       "\n",
       "    .dataframe tbody tr th {\n",
       "        vertical-align: top;\n",
       "    }\n",
       "\n",
       "    .dataframe thead th {\n",
       "        text-align: right;\n",
       "    }\n",
       "</style>\n",
       "<table border=\"1\" class=\"dataframe\">\n",
       "  <thead>\n",
       "    <tr style=\"text-align: right;\">\n",
       "      <th></th>\n",
       "      <th>Alcohol</th>\n",
       "      <th>Punctuality</th>\n",
       "      <th>Lying</th>\n",
       "      <th>Internet usage</th>\n",
       "      <th>Gender</th>\n",
       "      <th>Left - right handed</th>\n",
       "      <th>Education</th>\n",
       "      <th>Only child</th>\n",
       "      <th>Village - town</th>\n",
       "      <th>House - block of flats</th>\n",
       "    </tr>\n",
       "  </thead>\n",
       "  <tbody>\n",
       "    <tr>\n",
       "      <th>count</th>\n",
       "      <td>1000</td>\n",
       "      <td>1000</td>\n",
       "      <td>1000</td>\n",
       "      <td>1002</td>\n",
       "      <td>996</td>\n",
       "      <td>999</td>\n",
       "      <td>1001</td>\n",
       "      <td>1000</td>\n",
       "      <td>998</td>\n",
       "      <td>998</td>\n",
       "    </tr>\n",
       "    <tr>\n",
       "      <th>unique</th>\n",
       "      <td>3</td>\n",
       "      <td>3</td>\n",
       "      <td>4</td>\n",
       "      <td>4</td>\n",
       "      <td>2</td>\n",
       "      <td>2</td>\n",
       "      <td>6</td>\n",
       "      <td>2</td>\n",
       "      <td>2</td>\n",
       "      <td>2</td>\n",
       "    </tr>\n",
       "    <tr>\n",
       "      <th>top</th>\n",
       "      <td>social drinker</td>\n",
       "      <td>i am always on time</td>\n",
       "      <td>sometimes</td>\n",
       "      <td>few hours a day</td>\n",
       "      <td>female</td>\n",
       "      <td>right handed</td>\n",
       "      <td>secondary school</td>\n",
       "      <td>no</td>\n",
       "      <td>city</td>\n",
       "      <td>block of flats</td>\n",
       "    </tr>\n",
       "    <tr>\n",
       "      <th>freq</th>\n",
       "      <td>658</td>\n",
       "      <td>396</td>\n",
       "      <td>544</td>\n",
       "      <td>737</td>\n",
       "      <td>589</td>\n",
       "      <td>899</td>\n",
       "      <td>617</td>\n",
       "      <td>747</td>\n",
       "      <td>702</td>\n",
       "      <td>590</td>\n",
       "    </tr>\n",
       "  </tbody>\n",
       "</table>\n",
       "</div>"
      ],
      "text/plain": [
       "               Alcohol          Punctuality      Lying   Internet usage  \\\n",
       "count             1000                 1000       1000             1002   \n",
       "unique               3                    3          4                4   \n",
       "top     social drinker  i am always on time  sometimes  few hours a day   \n",
       "freq               658                  396        544              737   \n",
       "\n",
       "        Gender Left - right handed         Education Only child  \\\n",
       "count      996                 999              1001       1000   \n",
       "unique       2                   2                 6          2   \n",
       "top     female        right handed  secondary school         no   \n",
       "freq       589                 899               617        747   \n",
       "\n",
       "       Village - town House - block of flats  \n",
       "count             998                    998  \n",
       "unique              2                      2  \n",
       "top              city         block of flats  \n",
       "freq              702                    590  "
      ]
     },
     "execution_count": 11,
     "metadata": {},
     "output_type": "execute_result"
    }
   ],
   "source": [
    "data.describe(exclude=np.number)"
   ]
  },
  {
   "cell_type": "code",
   "execution_count": 12,
   "metadata": {},
   "outputs": [],
   "source": [
    "data[\"Alcohol\"] = data[\"Alcohol\"].map({\"never\": 0, \"social drinker\": 1, \"drink a lot\": 2})\n",
    "\n",
    "data[\"Punctuality\"] = data[\"Punctuality\"].map({\"i am often early\": 0, \"i am always on time\": 1, \"i am often running late\": 2})\n",
    "\n",
    "data[\"Lying\"] = data[\"Lying\"].map({\"never\": 0, \"sometimes\": 1, \"only to avoid hurting someone\": 2, \"everytime it suits me\": 3})\n",
    "\n",
    "data[\"Internet usage\"] = data[\"Internet usage\"].map({\n",
    "    \"no time at all\": 0, \n",
    "    \"less than an hour a day\": 1, \n",
    "    \"few hours a day\": 2, \n",
    "    \"most of the day\": 3})\n",
    "\n",
    "data[\"Female\"] = data[\"Gender\"].map({\"male\": 0, \"female\": 1})\n",
    "data.drop(\"Gender\", axis=1, inplace=True)\n",
    "\n",
    "data[\"Right handed\"] = data[\"Left - right handed\"].map({\"left handed\": 0, \"right handed\": 1})\n",
    "data.drop(\"Left - right handed\", axis=1, inplace=True)\n",
    "\n",
    "data[\"Education\"] = data[\"Education\"].map({\n",
    "    \"currently a primary school pupil\": 0,\n",
    "    \"primary school\": 1, \n",
    "    \"secondary school\": 2, \n",
    "    \"college/bachelor degree\": 3, \n",
    "    \"masters degree\": 4,\n",
    "    \"doctorate degree\": 5})\n",
    "\n",
    "data[\"Only child\"] = data[\"Only child\"].map({\"no\": 0, \"yes\": 1})\n",
    "\n",
    "data[\"Living in a city\"] = data[\"Village - town\"].map({\"village\": 0, \"city\": 1})\n",
    "data.drop(\"Village - town\", axis=1, inplace=True)\n",
    "\n",
    "data[\"Living in a flat\"] = data[\"House - block of flats\"].map({\"house/bungalow\": 0, \"block of flats\": 1})\n",
    "data.drop(\"House - block of flats\", axis=1, inplace=True)"
   ]
  },
  {
   "cell_type": "markdown",
   "metadata": {},
   "source": [
    "### Correlation"
   ]
  },
  {
   "cell_type": "markdown",
   "metadata": {},
   "source": [
    "What are the most heavily correlated features?"
   ]
  },
  {
   "cell_type": "code",
   "execution_count": 13,
   "metadata": {},
   "outputs": [
    {
     "name": "stdout",
     "output_type": "stream",
     "text": [
      "Biology & Medicine: 0.716\n",
      "Height & Weight: 0.696\n",
      "Biology & Chemistry: 0.690\n",
      "Fantasy/Fairy tales & Animated: 0.676\n",
      "Shopping & Shopping centres: 0.649\n",
      "Chemistry & Medicine: 0.626\n",
      "Age & Education: 0.618\n",
      "Living in a city & Living in a flat: 0.603\n",
      "Classical music & Opera: 0.595\n",
      "Mathematics & Physics: 0.594\n",
      "Snakes & Rats: 0.572\n",
      "Life struggles & Female: 0.568\n",
      "Metal or Hardrock & Punk: 0.545\n",
      "Art exhibitions & Theatre: 0.535\n",
      "Rock & Metal or Hardrock: 0.529\n",
      "Religion & God: 0.511\n",
      "Rock & Punk: 0.508\n",
      "Shopping & Spending on looks: 0.507\n",
      "Fear of public speaking & Public speaking: 0.507\n",
      "Storm & Darkness: 0.507\n",
      "Horror & Thriller: 0.506\n",
      "Weight & Female: -0.644\n",
      "Height & Female: -0.685\n"
     ]
    }
   ],
   "source": [
    "corr = data.corr()\n",
    "ord_corr = dict()\n",
    "\n",
    "# Saving heavily correlated features in a dictionary.\n",
    "for row in range(corr.shape[0]):\n",
    "    for col in range(corr.iloc[row].shape[0]):\n",
    "        if abs(corr.iloc[row][col]) > 0.5 and row < col:\n",
    "            key = corr.index[row] + \" & \" + corr.index[col]\n",
    "            ord_corr[key] = corr.iloc[row][col]\n",
    "\n",
    "for key in sorted(ord_corr, key=ord_corr.get, reverse=True):\n",
    "    print(\"%s: %.3f\" % (key, ord_corr[key]))"
   ]
  },
  {
   "cell_type": "markdown",
   "metadata": {},
   "source": [
    "Which features are more correlated with our target variable?"
   ]
  },
  {
   "cell_type": "code",
   "execution_count": 14,
   "metadata": {
    "scrolled": true
   },
   "outputs": [
    {
     "data": {
      "text/plain": [
       "Smoker                    1.000000\n",
       "Alcohol                   0.272063\n",
       "Entertainment spending    0.185594\n",
       "Cheating in school        0.174262\n",
       "Hiphop, Rap               0.150029\n",
       "Horror                    0.138637\n",
       "Criminal damage           0.125700\n",
       "Number of friends         0.119906\n",
       "Spending on looks         0.117810\n",
       "Age                       0.106776\n",
       "Comedy                   -0.105114\n",
       "God                      -0.105399\n",
       "Classical music          -0.107466\n",
       "Chemistry                -0.107610\n",
       "Thinking ahead           -0.113683\n",
       "Workaholism              -0.118797\n",
       "Mathematics              -0.121718\n",
       "Parents' advice          -0.129236\n",
       "Finances                 -0.173211\n",
       "Name: Smoker, dtype: float64"
      ]
     },
     "execution_count": 14,
     "metadata": {},
     "output_type": "execute_result"
    }
   ],
   "source": [
    "corr_target = corr[\"Smoker\"]\n",
    "corr_target = corr_target.sort_values(ascending=False)\n",
    "# Selection of the most correlated features.\n",
    "relevant_features = corr_target[abs(corr_target)>0.1]\n",
    "relevant_features"
   ]
  },
  {
   "cell_type": "markdown",
   "metadata": {},
   "source": [
    "We can observe that 'Alcohol' has the highest correlation value (0.27)."
   ]
  },
  {
   "cell_type": "markdown",
   "metadata": {},
   "source": [
    "#### An odd fact"
   ]
  },
  {
   "cell_type": "markdown",
   "metadata": {},
   "source": [
    "While looking at these numbers, I noticed something odd. It is popular knowledge that men are usually more inclined to smoking than women, but this does not show in our dataset."
   ]
  },
  {
   "cell_type": "code",
   "execution_count": 15,
   "metadata": {},
   "outputs": [
    {
     "data": {
      "text/plain": [
       "0.02263756948527801"
      ]
     },
     "execution_count": 15,
     "metadata": {},
     "output_type": "execute_result"
    }
   ],
   "source": [
    "corr_target['Female']"
   ]
  },
  {
   "cell_type": "markdown",
   "metadata": {},
   "source": [
    "Actually, considering both positive and negative coefficients, 'Female' is only the 121st highest correlated feature! "
   ]
  },
  {
   "cell_type": "code",
   "execution_count": 16,
   "metadata": {},
   "outputs": [
    {
     "data": {
      "text/plain": [
       "121"
      ]
     },
     "execution_count": 16,
     "metadata": {},
     "output_type": "execute_result"
    }
   ],
   "source": [
    "abs_corr_target = corr_target.abs().sort_values(ascending=False)\n",
    "abs_corr_target.index.get_loc(\"Female\")"
   ]
  },
  {
   "cell_type": "markdown",
   "metadata": {},
   "source": [
    "After some research, I found out that in Slovakia, the country where the survey that generated the dataset took place, [39.7%](https://tradingeconomics.com/slovakia/smoking-prevalence-males-percent-of-adults-wb-data.html) of the men were smokers during 2015, while only [17.6%](https://tradingeconomics.com/slovakia/smoking-prevalence-females-percent-of-adults-wb-data.html) of females were smokers."
   ]
  },
  {
   "cell_type": "markdown",
   "metadata": {},
   "source": [
    "Are those percentages respected in our dataset?"
   ]
  },
  {
   "cell_type": "code",
   "execution_count": 17,
   "metadata": {
    "scrolled": true
   },
   "outputs": [
    {
     "name": "stdout",
     "output_type": "stream",
     "text": [
      "In our dataset 35.1% of men are smokers.\n",
      "In our dataset 37.4% of women are smokers.\n"
     ]
    }
   ],
   "source": [
    "smokers_by_gender = data.groupby(\"Female\").mean()[\"Smoker\"]\n",
    "print(\"In our dataset %.1f%% of men are smokers.\" % (smokers_by_gender[0]*100))\n",
    "print(\"In our dataset %.1f%% of women are smokers.\" % (smokers_by_gender[1]*100))"
   ]
  },
  {
   "cell_type": "markdown",
   "metadata": {},
   "source": [
    "In our dataset 35.1% of the men are smokers, which is slightly below the national average, but okay given that some people may have lied."
   ]
  },
  {
   "cell_type": "markdown",
   "metadata": {},
   "source": [
    "It is utterly striking to notice that 37.3% of the women that took the survey affirmed to be smokers, a number that is higher than the men's one and more than double than the one reported as the national average!"
   ]
  },
  {
   "cell_type": "markdown",
   "metadata": {},
   "source": [
    "This may be due to the limited size of the sample. It is a shame because an higher correlation between this feature and the target one could have greatly helped the tuning of our models."
   ]
  },
  {
   "cell_type": "markdown",
   "metadata": {},
   "source": [
    "# Missing values"
   ]
  },
  {
   "cell_type": "markdown",
   "metadata": {},
   "source": [
    "Let's check how many missing values are in the data set and how can we deal with them."
   ]
  },
  {
   "cell_type": "code",
   "execution_count": 18,
   "metadata": {},
   "outputs": [
    {
     "data": {
      "text/html": [
       "<div>\n",
       "<style scoped>\n",
       "    .dataframe tbody tr th:only-of-type {\n",
       "        vertical-align: middle;\n",
       "    }\n",
       "\n",
       "    .dataframe tbody tr th {\n",
       "        vertical-align: top;\n",
       "    }\n",
       "\n",
       "    .dataframe thead th {\n",
       "        text-align: right;\n",
       "    }\n",
       "</style>\n",
       "<table border=\"1\" class=\"dataframe\">\n",
       "  <thead>\n",
       "    <tr style=\"text-align: right;\">\n",
       "      <th></th>\n",
       "      <th>Missing</th>\n",
       "      <th>%</th>\n",
       "    </tr>\n",
       "  </thead>\n",
       "  <tbody>\n",
       "    <tr>\n",
       "      <th>Weight</th>\n",
       "      <td>20</td>\n",
       "      <td>1.996</td>\n",
       "    </tr>\n",
       "    <tr>\n",
       "      <th>Height</th>\n",
       "      <td>20</td>\n",
       "      <td>1.996</td>\n",
       "    </tr>\n",
       "    <tr>\n",
       "      <th>Passive sport</th>\n",
       "      <td>14</td>\n",
       "      <td>1.397</td>\n",
       "    </tr>\n",
       "    <tr>\n",
       "      <th>Chemistry</th>\n",
       "      <td>10</td>\n",
       "      <td>0.998</td>\n",
       "    </tr>\n",
       "    <tr>\n",
       "      <th>Punk</th>\n",
       "      <td>8</td>\n",
       "      <td>0.798</td>\n",
       "    </tr>\n",
       "    <tr>\n",
       "      <th>Theatre</th>\n",
       "      <td>8</td>\n",
       "      <td>0.798</td>\n",
       "    </tr>\n",
       "    <tr>\n",
       "      <th>Latino</th>\n",
       "      <td>8</td>\n",
       "      <td>0.798</td>\n",
       "    </tr>\n",
       "    <tr>\n",
       "      <th>Geography</th>\n",
       "      <td>8</td>\n",
       "      <td>0.798</td>\n",
       "    </tr>\n",
       "    <tr>\n",
       "      <th>Alternative</th>\n",
       "      <td>7</td>\n",
       "      <td>0.699</td>\n",
       "    </tr>\n",
       "    <tr>\n",
       "      <th>Age</th>\n",
       "      <td>7</td>\n",
       "      <td>0.699</td>\n",
       "    </tr>\n",
       "  </tbody>\n",
       "</table>\n",
       "</div>"
      ],
      "text/plain": [
       "               Missing      %\n",
       "Weight              20  1.996\n",
       "Height              20  1.996\n",
       "Passive sport       14  1.397\n",
       "Chemistry           10  0.998\n",
       "Punk                 8  0.798\n",
       "Theatre              8  0.798\n",
       "Latino               8  0.798\n",
       "Geography            8  0.798\n",
       "Alternative          7  0.699\n",
       "Age                  7  0.699"
      ]
     },
     "execution_count": 18,
     "metadata": {},
     "output_type": "execute_result"
    }
   ],
   "source": [
    "data_na = round((data.isnull().sum() / len(data)) * 100, 3)\n",
    "data_na = data_na.drop(data_na[data_na == 0].index).sort_values(ascending=False)\n",
    "missing_data = pd.DataFrame({\"Missing\": data.isnull().sum(),  \"%\": data_na}).sort_values(by=\"%\", ascending=False)[:30]\n",
    "missing_data.head(10)"
   ]
  },
  {
   "cell_type": "code",
   "execution_count": 19,
   "metadata": {},
   "outputs": [
    {
     "data": {
      "text/plain": [
       "Text(0.5, 1.0, 'Top Variables for % of Missing Values')"
      ]
     },
     "execution_count": 19,
     "metadata": {},
     "output_type": "execute_result"
    },
    {
     "data": {
      "image/png": "[encoded data removed]",
      "text/plain": [
       "<Figure size 576x432 with 1 Axes>"
      ]
     },
     "metadata": {
      "needs_background": "light"
     },
     "output_type": "display_data"
    }
   ],
   "source": [
    "f, ax = plt.subplots(figsize=(8,6))\n",
    "plt.xticks(rotation='90')\n",
    "sns.barplot(x=data_na.index[:10], y=data_na[:10])\n",
    "plt.xlabel('Features', fontsize=15)\n",
    "plt.ylabel('Percent of Missing Values', fontsize=15)\n",
    "plt.title('Top Variables for % of Missing Values', fontsize=15)"
   ]
  },
  {
   "cell_type": "code",
   "execution_count": 20,
   "metadata": {},
   "outputs": [
    {
     "data": {
      "text/plain": [
       "Weight    1.000000\n",
       "Height    0.695696\n",
       "Female   -0.644266\n",
       "Name: Weight, dtype: float64"
      ]
     },
     "execution_count": 20,
     "metadata": {},
     "output_type": "execute_result"
    }
   ],
   "source": [
    "corr_weight = corr[\"Weight\"].sort_values(ascending=False)\n",
    "imp_corr_weight = corr_weight[corr_weight.abs() > 0.5]\n",
    "imp_corr_weight"
   ]
  },
  {
   "cell_type": "code",
   "execution_count": 21,
   "metadata": {},
   "outputs": [
    {
     "name": "stderr",
     "output_type": "stream",
     "text": [
      "C:\\Users\\Shakk\\Anaconda3\\lib\\site-packages\\pandas\\core\\indexing.py:190: SettingWithCopyWarning: \n",
      "A value is trying to be set on a copy of a slice from a DataFrame\n",
      "\n",
      "See the caveats in the documentation: http://pandas.pydata.org/pandas-docs/stable/indexing.html#indexing-view-versus-copy\n",
      "  self._setitem_with_indexer(indexer, value)\n"
     ]
    }
   ],
   "source": [
    "# Filling missing value of Weight with the median weight of similar rows according to Height and Female\n",
    "index_NaN_weight = list(data[\"Weight\"][data[\"Weight\"].isnull()].index)\n",
    "\n",
    "for i in index_NaN_weight:\n",
    "    weight_med = data[\"Weight\"].median()\n",
    "    weight_pred = data[\"Weight\"][((data['Height'] == data.iloc[i][\"Height\"]) & (data['Female'] == data.iloc[i][\"Female\"]))].median()\n",
    "    if not np.isnan(weight_pred) :\n",
    "        data['Weight'].iloc[i] = weight_pred\n",
    "    else:\n",
    "        data['Weight'].iloc[i] = weight_med"
   ]
  },
  {
   "cell_type": "code",
   "execution_count": 22,
   "metadata": {},
   "outputs": [],
   "source": [
    "# Filling missing value of Height with the median weight of similar rows according to Weight and Female\n",
    "index_NaN_height = list(data[\"Height\"][data[\"Height\"].isnull()].index)\n",
    "\n",
    "for i in index_NaN_height:\n",
    "    height_med = data[\"Height\"].median()\n",
    "    height_pred = data[\"Height\"][((data['Weight'] == data.iloc[i][\"Weight\"]) & (data['Female'] == data.iloc[i][\"Female\"]))].median()\n",
    "    if not np.isnan(height_pred) :\n",
    "        data['Height'].iloc[i] = height_pred\n",
    "    else:\n",
    "        data['Height'].iloc[i] = height_med"
   ]
  },
  {
   "cell_type": "markdown",
   "metadata": {},
   "source": [
    "We substitute the remaining missing values with the most frequent value in their column."
   ]
  },
  {
   "cell_type": "code",
   "execution_count": 23,
   "metadata": {},
   "outputs": [],
   "source": [
    "imp = SimpleImputer(missing_values=np.nan, strategy='most_frequent')"
   ]
  },
  {
   "cell_type": "code",
   "execution_count": 24,
   "metadata": {},
   "outputs": [
    {
     "name": "stdout",
     "output_type": "stream",
     "text": [
      "Missing values: 0\n"
     ]
    }
   ],
   "source": [
    "data = pd.DataFrame(data=imp.fit_transform(data), columns=data.columns, index=data.index)\n",
    "print(\"Missing values: %d\" % (data.isnull().sum().sum()))"
   ]
  },
  {
   "cell_type": "markdown",
   "metadata": {},
   "source": [
    "### Binning of continuous variables"
   ]
  },
  {
   "cell_type": "code",
   "execution_count": 25,
   "metadata": {},
   "outputs": [],
   "source": [
    "# Continuous variable bins\n",
    "data['AgeBin'] = pd.cut(data['Age'], 5)\n",
    "data['HeightBin'] = pd.qcut(data['Height'].astype(int), 5)\n",
    "data['WeightBin'] = pd.qcut(data['Weight'].astype(int), 5)\n",
    "\n",
    "# Convert objects to categories\n",
    "data['Age'] = LabelEncoder().fit_transform(data['AgeBin'])\n",
    "data['Height'] = LabelEncoder().fit_transform(data['HeightBin'])\n",
    "data['Weight'] = LabelEncoder().fit_transform(data['WeightBin'])\n",
    "\n",
    "# Drop unnecessary features\n",
    "drop_features = ['AgeBin', 'HeightBin', 'WeightBin']\n",
    "data = data.drop(drop_features, axis=1)"
   ]
  },
  {
   "cell_type": "markdown",
   "metadata": {},
   "source": [
    "We keep only the data with the features heavily correlated with \"Smoker\"."
   ]
  },
  {
   "cell_type": "code",
   "execution_count": 26,
   "metadata": {},
   "outputs": [],
   "source": [
    "relevant_data = data[relevant_features.index]"
   ]
  },
  {
   "cell_type": "markdown",
   "metadata": {},
   "source": [
    "Now we save the cleaned data into a file, ready to be used for modeling."
   ]
  },
  {
   "cell_type": "code",
   "execution_count": 27,
   "metadata": {},
   "outputs": [],
   "source": [
    "relevant_data.to_csv(\"data/clean_relevant_data.csv\", index=False)\n",
    "data.to_csv(\"data/clean_data.csv\", index=False)"
   ]
  }
 ],
 "metadata": {
  "kernelspec": {
   "display_name": "Python 3",
   "language": "python",
   "name": "python3"
  },
  "language_info": {
   "codemirror_mode": {
    "name": "ipython",
    "version": 3
   },
   "file_extension": ".py",
   "mimetype": "text/x-python",
   "name": "python",
   "nbconvert_exporter": "python",
   "pygments_lexer": "ipython3",
   "version": "3.7.3"
  }
 },
 "nbformat": 4,
 "nbformat_minor": 1
}
