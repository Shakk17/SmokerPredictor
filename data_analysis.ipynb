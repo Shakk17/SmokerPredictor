{
 "cells": [
  {
   "cell_type": "markdown",
   "metadata": {},
   "source": [
    " # Project - Data Analysis"
   ]
  },
  {
   "cell_type": "code",
   "execution_count": 1,
   "metadata": {
    "pycharm": {
     "is_executing": false
    }
   },
   "outputs": [],
   "source": [
    "import pandas as pd\n",
    "import numpy as np\n",
    "\n",
    "import warnings\n",
    "warnings.filterwarnings(\"ignore\")\n",
    "\n",
    "# Visualization\n",
    "import seaborn as sns\n",
    "import matplotlib.pyplot as plt\n",
    "%matplotlib inline\n",
    "\n",
    "# Preprocessing\n",
    "from sklearn.impute import SimpleImputer\n",
    "from sklearn.preprocessing import LabelEncoder"
   ]
  },
  {
   "cell_type": "markdown",
   "metadata": {},
   "source": [
    "### Data acquisition"
   ]
  },
  {
   "cell_type": "code",
   "execution_count": 2,
   "metadata": {
    "pycharm": {
     "is_executing": false
    }
   },
   "outputs": [],
   "source": [
    "data = pd.read_csv(\"data/responses.csv\")"
   ]
  },
  {
   "cell_type": "markdown",
   "metadata": {},
   "source": [
    "Quick look at how the data is composed."
   ]
  },
  {
   "cell_type": "code",
   "execution_count": 3,
   "metadata": {},
   "outputs": [
    {
     "name": "stdout",
     "output_type": "stream",
     "text": [
      "<class 'pandas.core.frame.DataFrame'>\n",
      "RangeIndex: 1010 entries, 0 to 1009\n",
      "Columns: 150 entries, Music to House - block of flats\n",
      "dtypes: float64(134), int64(5), object(11)\n",
      "memory usage: 1.2+ MB\n"
     ]
    }
   ],
   "source": [
    "data.info()"
   ]
  },
  {
   "cell_type": "markdown",
   "metadata": {},
   "source": [
    "## Target variable"
   ]
  },
  {
   "cell_type": "markdown",
   "metadata": {},
   "source": [
    "<b>Smoking</b> is the target variable. Let's see which values are contained in it."
   ]
  },
  {
   "cell_type": "code",
   "execution_count": 4,
   "metadata": {},
   "outputs": [
    {
     "data": {
      "image/png": "[encoded data removed]",
      "text/plain": [
       "<Figure size 432x288 with 1 Axes>"
      ]
     },
     "metadata": {
      "needs_background": "light"
     },
     "output_type": "display_data"
    }
   ],
   "source": [
    "ax = sns.countplot(data=data, x='Smoking')\n",
    "ax.set_title('Target values');"
   ]
  },
  {
   "cell_type": "markdown",
   "metadata": {},
   "source": [
    "The goal of this project is to determine if a person has been a smoker during a prolonged period of his life. <br>\n",
    "<p>For this reason we group together: <br>\n",
    "    <ul>\n",
    "        <li>the values <i>'never smoked'</i> and <i>'tried smoking'</i> under the label 'No' (0)</li>\n",
    "        <li>the values <i>'former smoker'</i> and <i>'current smoker'</i> under the label 'Yes' (1)</li>\n",
    "    </ul>\n",
    "</p>\n",
    "We call this new target variable <b>Smoker</b>."
   ]
  },
  {
   "cell_type": "code",
   "execution_count": 5,
   "metadata": {},
   "outputs": [],
   "source": [
    "data[\"Smoker\"] = data[\"Smoking\"].map({\n",
    "    \"never smoked\": \"No\", \n",
    "    \"tried smoking\": \"No\", \n",
    "    \"former smoker\": \"Yes\", \n",
    "    \"current smoker\": \"Yes\"})\n",
    "data.drop(\"Smoking\", axis=1, inplace=True)"
   ]
  },
  {
   "cell_type": "code",
   "execution_count": 6,
   "metadata": {},
   "outputs": [
    {
     "data": {
      "image/png": "[encoded data removed]",
      "text/plain": [
       "<Figure size 432x288 with 1 Axes>"
      ]
     },
     "metadata": {
      "needs_background": "light"
     },
     "output_type": "display_data"
    }
   ],
   "source": [
    "ax = sns.countplot(data=data, x='Smoker')\n",
    "ax.set_title('Target values');"
   ]
  },
  {
   "cell_type": "markdown",
   "metadata": {},
   "source": [
    "### Missing values"
   ]
  },
  {
   "cell_type": "markdown",
   "metadata": {},
   "source": [
    "How many missing values does the target variable have?"
   ]
  },
  {
   "cell_type": "code",
   "execution_count": 7,
   "metadata": {},
   "outputs": [
    {
     "name": "stdout",
     "output_type": "stream",
     "text": [
      "Number of missing values in target variable: 8\n"
     ]
    }
   ],
   "source": [
    "print(\"Number of missing values in target variable: %d\" % data[\"Smoker\"].isnull().sum())"
   ]
  },
  {
   "cell_type": "markdown",
   "metadata": {},
   "source": [
    "In the rows with a missing value for the target variable <i>'Smoker'</i>, which other values are missing?"
   ]
  },
  {
   "cell_type": "code",
   "execution_count": 8,
   "metadata": {},
   "outputs": [
    {
     "name": "stdout",
     "output_type": "stream",
     "text": [
      "Row 130 - Missing:  Documentary - Alcohol - Smoker - \n",
      "Row 149 - Missing:  Smoker - \n",
      "Row 525 - Missing:  Fun with friends - Friends versus money - Hypochondria - Smoker - \n",
      "Row 567 - Missing:  Documentary - Biology - Giving - Charity - Spending on looks - Smoker - \n",
      "Row 629 - Missing:  Alcohol - Healthy eating - Smoker - \n",
      "Row 708 - Missing:  Alcohol - Healthy eating - Smoker - \n",
      "Row 763 - Missing:  Geography - Smoker - \n",
      "Row 980 - Missing:  Passive sport - Smoker - \n"
     ]
    },
    {
     "data": {
      "image/png": "[encoded data removed]",
      "text/plain": [
       "<Figure size 432x288 with 1 Axes>"
      ]
     },
     "metadata": {
      "needs_background": "light"
     },
     "output_type": "display_data"
    }
   ],
   "source": [
    "values_missing = dict()\n",
    "for index, row in data[data[\"Smoker\"].isnull()].iterrows():\n",
    "    print(\"Row %d - Missing: \"% index, end=\" \")\n",
    "    for col in row[row.isnull()].index:\n",
    "        print(col, end=\" - \")\n",
    "        if col in values_missing:\n",
    "            values_missing[col] += 1\n",
    "        else:\n",
    "            values_missing[col] = 1\n",
    "    print()\n",
    "\n",
    "s = pd.Series(values_missing).sort_values(ascending=False)\n",
    "ax = sns.barplot(x=s, y=s.index)"
   ]
  },
  {
   "cell_type": "markdown",
   "metadata": {},
   "source": [
    "Interesting to notice:\n",
    "- Three people that chose to not indicate their smoking habits also avoided talking about alcohol consumption.\n",
    "- Two of them also avoided talking about health habits."
   ]
  },
  {
   "cell_type": "markdown",
   "metadata": {},
   "source": [
    "We remove the rows with missing values for the target variable."
   ]
  },
  {
   "cell_type": "code",
   "execution_count": 9,
   "metadata": {},
   "outputs": [
    {
     "name": "stdout",
     "output_type": "stream",
     "text": [
      "Number of missing values in target: 0\n"
     ]
    }
   ],
   "source": [
    "data = data.drop(data[data[\"Smoker\"].isnull()].index)\n",
    "print(\"Number of missing values in target: %d\" % data[\"Smoker\"].isnull().sum())"
   ]
  },
  {
   "cell_type": "markdown",
   "metadata": {},
   "source": [
    "## Data visualization\n",
    "We now procede to visualize some of the characteristics of this dataset in order to try to obtain a better understanding of it."
   ]
  },
  {
   "cell_type": "markdown",
   "metadata": {},
   "source": [
    "### Alcohol and Gender\n",
    "Let's look at two features that will be interesting later, <i>'Alcohol'</i> and <i>'Gender'</i>. <br>\n",
    "Are they related to each other and to the target variable <i>'Smoker'</i>?"
   ]
  },
  {
   "cell_type": "code",
   "execution_count": 10,
   "metadata": {},
   "outputs": [
    {
     "data": {
      "image/png": "[encoded data removed]",
      "text/plain": [
       "<Figure size 432x216 with 2 Axes>"
      ]
     },
     "metadata": {
      "needs_background": "light"
     },
     "output_type": "display_data"
    }
   ],
   "source": [
    "g = sns.FacetGrid(data, col=\"Gender\")\n",
    "g.map(sns.countplot, \"Alcohol\", palette='Set1', order=['drink a lot', 'social drinker', 'never']);"
   ]
  },
  {
   "cell_type": "markdown",
   "metadata": {},
   "source": [
    "Males are more oriented towards heavy drinking than women."
   ]
  },
  {
   "cell_type": "code",
   "execution_count": 11,
   "metadata": {},
   "outputs": [
    {
     "data": {
      "image/png": "[encoded data removed]",
      "text/plain": [
       "<Figure size 648x216 with 3 Axes>"
      ]
     },
     "metadata": {
      "needs_background": "light"
     },
     "output_type": "display_data"
    }
   ],
   "source": [
    "g = sns.FacetGrid(data, col=\"Alcohol\")\n",
    "g.map(sns.countplot, \"Smoker\", palette='Set1', order=['Yes', 'No']);"
   ]
  },
  {
   "cell_type": "markdown",
   "metadata": {},
   "source": [
    "We can notice that it seems to be a linear correlation between the consumption of alcohol and smoking."
   ]
  },
  {
   "cell_type": "code",
   "execution_count": 12,
   "metadata": {},
   "outputs": [
    {
     "data": {
      "image/png": "[encoded data removed]",
      "text/plain": [
       "<Figure size 432x216 with 2 Axes>"
      ]
     },
     "metadata": {
      "needs_background": "light"
     },
     "output_type": "display_data"
    }
   ],
   "source": [
    "g = sns.FacetGrid(data, col=\"Gender\")\n",
    "g.map(sns.countplot, \"Smoker\", palette='Set1', order=['Yes', 'No']);"
   ]
  },
  {
   "cell_type": "markdown",
   "metadata": {},
   "source": [
    "The proportion between smokers and non smokers does not change depending on the gender. <br>\n",
    "More on this later."
   ]
  },
  {
   "cell_type": "markdown",
   "metadata": {},
   "source": [
    "### Age"
   ]
  },
  {
   "cell_type": "markdown",
   "metadata": {},
   "source": [
    "And what about <i>'Age'</i>? Is it related to <i>'Smoker'</i>?"
   ]
  },
  {
   "cell_type": "code",
   "execution_count": 13,
   "metadata": {},
   "outputs": [
    {
     "data": {
      "image/png": "[encoded data removed]",
      "text/plain": [
       "<Figure size 1152x432 with 1 Axes>"
      ]
     },
     "metadata": {},
     "output_type": "display_data"
    }
   ],
   "source": [
    "sns.set(rc={'figure.figsize':(16,6)})\n",
    "sns.countplot(data=data, x=\"Age\", hue=\"Smoker\");"
   ]
  },
  {
   "cell_type": "markdown",
   "metadata": {},
   "source": [
    "### Correlation\n",
    "What are the features most heavily correlated?"
   ]
  },
  {
   "cell_type": "code",
   "execution_count": 14,
   "metadata": {},
   "outputs": [
    {
     "data": {
      "image/png": "[encoded data removed]",
      "text/plain": [
       "<Figure size 1008x504 with 1 Axes>"
      ]
     },
     "metadata": {},
     "output_type": "display_data"
    }
   ],
   "source": [
    "corr = data.corr()\n",
    "ord_corr = dict()\n",
    "\n",
    "# Saving heavily correlated features in a dictionary.\n",
    "for row in range(corr.shape[0]):\n",
    "    for col in range(corr.iloc[row].shape[0]):\n",
    "        if abs(corr.iloc[row][col]) > 0.5 and row < col:\n",
    "            key = corr.index[row] + \" & \" + corr.index[col]\n",
    "            ord_corr[key] = corr.iloc[row][col]\n",
    "\n",
    "# Plotting\n",
    "pd.Series(ord_corr).sort_values().plot(kind='barh', figsize=(14,7));"
   ]
  },
  {
   "cell_type": "markdown",
   "metadata": {},
   "source": [
    "## Data transformation"
   ]
  },
  {
   "cell_type": "markdown",
   "metadata": {},
   "source": [
    "### Encoding of categorical variables\n",
    "We have to transform the categorical variables into numerical ones."
   ]
  },
  {
   "cell_type": "code",
   "execution_count": 15,
   "metadata": {},
   "outputs": [
    {
     "data": {
      "text/html": [
       "<div>\n",
       "<style scoped>\n",
       "    .dataframe tbody tr th:only-of-type {\n",
       "        vertical-align: middle;\n",
       "    }\n",
       "\n",
       "    .dataframe tbody tr th {\n",
       "        vertical-align: top;\n",
       "    }\n",
       "\n",
       "    .dataframe thead th {\n",
       "        text-align: right;\n",
       "    }\n",
       "</style>\n",
       "<table border=\"1\" class=\"dataframe\">\n",
       "  <thead>\n",
       "    <tr style=\"text-align: right;\">\n",
       "      <th></th>\n",
       "      <th>Alcohol</th>\n",
       "      <th>Punctuality</th>\n",
       "      <th>Lying</th>\n",
       "      <th>Internet usage</th>\n",
       "      <th>Gender</th>\n",
       "      <th>Left - right handed</th>\n",
       "      <th>Education</th>\n",
       "      <th>Only child</th>\n",
       "      <th>Village - town</th>\n",
       "      <th>House - block of flats</th>\n",
       "      <th>Smoker</th>\n",
       "    </tr>\n",
       "  </thead>\n",
       "  <tbody>\n",
       "    <tr>\n",
       "      <th>count</th>\n",
       "      <td>1000</td>\n",
       "      <td>1000</td>\n",
       "      <td>1000</td>\n",
       "      <td>1002</td>\n",
       "      <td>996</td>\n",
       "      <td>999</td>\n",
       "      <td>1001</td>\n",
       "      <td>1000</td>\n",
       "      <td>998</td>\n",
       "      <td>998</td>\n",
       "      <td>1002</td>\n",
       "    </tr>\n",
       "    <tr>\n",
       "      <th>unique</th>\n",
       "      <td>3</td>\n",
       "      <td>3</td>\n",
       "      <td>4</td>\n",
       "      <td>4</td>\n",
       "      <td>2</td>\n",
       "      <td>2</td>\n",
       "      <td>6</td>\n",
       "      <td>2</td>\n",
       "      <td>2</td>\n",
       "      <td>2</td>\n",
       "      <td>2</td>\n",
       "    </tr>\n",
       "    <tr>\n",
       "      <th>top</th>\n",
       "      <td>social drinker</td>\n",
       "      <td>i am always on time</td>\n",
       "      <td>sometimes</td>\n",
       "      <td>few hours a day</td>\n",
       "      <td>female</td>\n",
       "      <td>right handed</td>\n",
       "      <td>secondary school</td>\n",
       "      <td>no</td>\n",
       "      <td>city</td>\n",
       "      <td>block of flats</td>\n",
       "      <td>No</td>\n",
       "    </tr>\n",
       "    <tr>\n",
       "      <th>freq</th>\n",
       "      <td>658</td>\n",
       "      <td>396</td>\n",
       "      <td>544</td>\n",
       "      <td>737</td>\n",
       "      <td>589</td>\n",
       "      <td>899</td>\n",
       "      <td>617</td>\n",
       "      <td>747</td>\n",
       "      <td>702</td>\n",
       "      <td>590</td>\n",
       "      <td>638</td>\n",
       "    </tr>\n",
       "  </tbody>\n",
       "</table>\n",
       "</div>"
      ],
      "text/plain": [
       "               Alcohol          Punctuality      Lying   Internet usage  \\\n",
       "count             1000                 1000       1000             1002   \n",
       "unique               3                    3          4                4   \n",
       "top     social drinker  i am always on time  sometimes  few hours a day   \n",
       "freq               658                  396        544              737   \n",
       "\n",
       "        Gender Left - right handed         Education Only child  \\\n",
       "count      996                 999              1001       1000   \n",
       "unique       2                   2                 6          2   \n",
       "top     female        right handed  secondary school         no   \n",
       "freq       589                 899               617        747   \n",
       "\n",
       "       Village - town House - block of flats Smoker  \n",
       "count             998                    998   1002  \n",
       "unique              2                      2      2  \n",
       "top              city         block of flats     No  \n",
       "freq              702                    590    638  "
      ]
     },
     "execution_count": 15,
     "metadata": {},
     "output_type": "execute_result"
    }
   ],
   "source": [
    "data.describe(exclude=np.number)"
   ]
  },
  {
   "cell_type": "code",
   "execution_count": 16,
   "metadata": {},
   "outputs": [],
   "source": [
    "data[\"Alcohol\"] = data[\"Alcohol\"].map({\"never\": 0, \"social drinker\": 1, \"drink a lot\": 2})\n",
    "\n",
    "data[\"Punctuality\"] = data[\"Punctuality\"].map({\"i am often early\": 0, \"i am always on time\": 1, \"i am often running late\": 2})\n",
    "\n",
    "data[\"Lying\"] = data[\"Lying\"].map({\"never\": 0, \"sometimes\": 1, \"only to avoid hurting someone\": 2, \"everytime it suits me\": 3})\n",
    "\n",
    "data[\"Internet usage\"] = data[\"Internet usage\"].map({\n",
    "    \"no time at all\": 0, \n",
    "    \"less than an hour a day\": 1, \n",
    "    \"few hours a day\": 2, \n",
    "    \"most of the day\": 3})\n",
    "\n",
    "data[\"Female\"] = data[\"Gender\"].map({\"male\": 0, \"female\": 1})\n",
    "data.drop(\"Gender\", axis=1, inplace=True)\n",
    "\n",
    "data[\"Right handed\"] = data[\"Left - right handed\"].map({\"left handed\": 0, \"right handed\": 1})\n",
    "data.drop(\"Left - right handed\", axis=1, inplace=True)\n",
    "\n",
    "data[\"Education\"] = data[\"Education\"].map({\n",
    "    \"currently a primary school pupil\": 0,\n",
    "    \"primary school\": 1, \n",
    "    \"secondary school\": 2, \n",
    "    \"college/bachelor degree\": 3, \n",
    "    \"masters degree\": 4,\n",
    "    \"doctorate degree\": 5})\n",
    "\n",
    "data[\"Only child\"] = data[\"Only child\"].map({\"no\": 0, \"yes\": 1})\n",
    "\n",
    "data[\"Living in a city\"] = data[\"Village - town\"].map({\"village\": 0, \"city\": 1})\n",
    "data.drop(\"Village - town\", axis=1, inplace=True)\n",
    "\n",
    "data[\"Living in a flat\"] = data[\"House - block of flats\"].map({\"house/bungalow\": 0, \"block of flats\": 1})\n",
    "data.drop(\"House - block of flats\", axis=1, inplace=True)\n",
    "\n",
    "data[\"Smoker\"] = data[\"Smoker\"].map({\"No\": 0, \"Yes\": 1})"
   ]
  },
  {
   "cell_type": "markdown",
   "metadata": {},
   "source": [
    "Now that we have all the features in a numerical form, we can see which features are more correlated with our target variable."
   ]
  },
  {
   "cell_type": "code",
   "execution_count": 17,
   "metadata": {
    "scrolled": true
   },
   "outputs": [
    {
     "data": {
      "image/png": "[encoded data removed]",
      "text/plain": [
       "<Figure size 1008x360 with 1 Axes>"
      ]
     },
     "metadata": {},
     "output_type": "display_data"
    }
   ],
   "source": [
    "corr = data.corr()\n",
    "corr_target = corr[\"Smoker\"]\n",
    "corr_target = corr_target.sort_values()\n",
    "corr_target = corr_target.drop(\"Smoker\")\n",
    "\n",
    "# Selection of the most correlated features.\n",
    "relevant_features = corr_target[abs(corr_target)>0.1]\n",
    "relevant_features.plot(kind='barh', figsize=(14,5));"
   ]
  },
  {
   "cell_type": "markdown",
   "metadata": {},
   "source": [
    "We can observe that 'Alcohol' has the highest correlation value (0.27), which is consistent with what we saw before, during the data visualization step."
   ]
  },
  {
   "cell_type": "markdown",
   "metadata": {},
   "source": [
    "#### An odd fact"
   ]
  },
  {
   "cell_type": "markdown",
   "metadata": {},
   "source": [
    "While looking at these numbers, I noticed something strange. <br>\n",
    "It is popular knowledge that men are usually more inclined to smoking than women, but this does not show at all in our dataset."
   ]
  },
  {
   "cell_type": "code",
   "execution_count": 18,
   "metadata": {},
   "outputs": [
    {
     "name": "stdout",
     "output_type": "stream",
     "text": [
      "Correlation between 'Gender' and 'Smoker': 0.023\n"
     ]
    }
   ],
   "source": [
    "print(\"Correlation between 'Gender' and 'Smoker': %.3f\" % (corr_target['Female']))"
   ]
  },
  {
   "cell_type": "markdown",
   "metadata": {},
   "source": [
    "Actually, considering both positive and negative coefficients, <i>'Female'</i> is only the 120th highest correlated feature! "
   ]
  },
  {
   "cell_type": "code",
   "execution_count": 19,
   "metadata": {},
   "outputs": [
    {
     "data": {
      "text/plain": [
       "120"
      ]
     },
     "execution_count": 19,
     "metadata": {},
     "output_type": "execute_result"
    }
   ],
   "source": [
    "abs_corr_target = corr_target.abs().sort_values(ascending=False)\n",
    "abs_corr_target.index.get_loc(\"Female\")"
   ]
  },
  {
   "cell_type": "markdown",
   "metadata": {},
   "source": [
    "After some research, I found out that in Slovakia, the country where the survey that generated the dataset took place, [39.7%](https://tradingeconomics.com/slovakia/smoking-prevalence-males-percent-of-adults-wb-data.html) of the men were smokers during 2015, against only [17.6%](https://tradingeconomics.com/slovakia/smoking-prevalence-females-percent-of-adults-wb-data.html) of females. <br>\n",
    "Is this ratio (2.25) respected in our dataset?"
   ]
  },
  {
   "cell_type": "code",
   "execution_count": 20,
   "metadata": {
    "scrolled": true
   },
   "outputs": [
    {
     "name": "stdout",
     "output_type": "stream",
     "text": [
      "In our dataset 35.1% of men are smokers.\n",
      "In our dataset 37.4% of women are smokers.\n",
      "RATIO: 0.940663\n"
     ]
    }
   ],
   "source": [
    "smokers_by_gender = data.groupby(\"Female\").mean()[\"Smoker\"]\n",
    "print(\"In our dataset %.1f%% of men are smokers.\" % (smokers_by_gender[0]*100))\n",
    "print(\"In our dataset %.1f%% of women are smokers.\" % (smokers_by_gender[1]*100))\n",
    "print(\"RATIO: %f\" % (smokers_by_gender[0]/smokers_by_gender[1]))"
   ]
  },
  {
   "cell_type": "markdown",
   "metadata": {},
   "source": [
    "It is utterly striking to notice that 37.3% of the women that took the survey affirmed to be smokers, a number that is actually higher than the men's one! <br>\n",
    "This may be due to the limited size of the sample. <br>\n",
    "It is a shame, because an higher correlation between this feature and the target one could have greatly helped improving the accuracy of our models."
   ]
  },
  {
   "cell_type": "markdown",
   "metadata": {},
   "source": [
    "### Missing values"
   ]
  },
  {
   "cell_type": "markdown",
   "metadata": {},
   "source": [
    "Let's check how many missing values are present in the dataset."
   ]
  },
  {
   "cell_type": "code",
   "execution_count": 21,
   "metadata": {},
   "outputs": [
    {
     "data": {
      "text/html": [
       "<div>\n",
       "<style scoped>\n",
       "    .dataframe tbody tr th:only-of-type {\n",
       "        vertical-align: middle;\n",
       "    }\n",
       "\n",
       "    .dataframe tbody tr th {\n",
       "        vertical-align: top;\n",
       "    }\n",
       "\n",
       "    .dataframe thead th {\n",
       "        text-align: right;\n",
       "    }\n",
       "</style>\n",
       "<table border=\"1\" class=\"dataframe\">\n",
       "  <thead>\n",
       "    <tr style=\"text-align: right;\">\n",
       "      <th></th>\n",
       "      <th>Missing</th>\n",
       "      <th>%</th>\n",
       "    </tr>\n",
       "  </thead>\n",
       "  <tbody>\n",
       "    <tr>\n",
       "      <th>Weight</th>\n",
       "      <td>20</td>\n",
       "      <td>1.996</td>\n",
       "    </tr>\n",
       "    <tr>\n",
       "      <th>Height</th>\n",
       "      <td>20</td>\n",
       "      <td>1.996</td>\n",
       "    </tr>\n",
       "    <tr>\n",
       "      <th>Passive sport</th>\n",
       "      <td>14</td>\n",
       "      <td>1.397</td>\n",
       "    </tr>\n",
       "    <tr>\n",
       "      <th>Chemistry</th>\n",
       "      <td>10</td>\n",
       "      <td>0.998</td>\n",
       "    </tr>\n",
       "    <tr>\n",
       "      <th>Punk</th>\n",
       "      <td>8</td>\n",
       "      <td>0.798</td>\n",
       "    </tr>\n",
       "    <tr>\n",
       "      <th>Theatre</th>\n",
       "      <td>8</td>\n",
       "      <td>0.798</td>\n",
       "    </tr>\n",
       "    <tr>\n",
       "      <th>Latino</th>\n",
       "      <td>8</td>\n",
       "      <td>0.798</td>\n",
       "    </tr>\n",
       "    <tr>\n",
       "      <th>Geography</th>\n",
       "      <td>8</td>\n",
       "      <td>0.798</td>\n",
       "    </tr>\n",
       "    <tr>\n",
       "      <th>Alternative</th>\n",
       "      <td>7</td>\n",
       "      <td>0.699</td>\n",
       "    </tr>\n",
       "    <tr>\n",
       "      <th>Age</th>\n",
       "      <td>7</td>\n",
       "      <td>0.699</td>\n",
       "    </tr>\n",
       "  </tbody>\n",
       "</table>\n",
       "</div>"
      ],
      "text/plain": [
       "               Missing      %\n",
       "Weight              20  1.996\n",
       "Height              20  1.996\n",
       "Passive sport       14  1.397\n",
       "Chemistry           10  0.998\n",
       "Punk                 8  0.798\n",
       "Theatre              8  0.798\n",
       "Latino               8  0.798\n",
       "Geography            8  0.798\n",
       "Alternative          7  0.699\n",
       "Age                  7  0.699"
      ]
     },
     "execution_count": 21,
     "metadata": {},
     "output_type": "execute_result"
    }
   ],
   "source": [
    "data_na = round((data.isnull().sum() / len(data)) * 100, 3)\n",
    "data_na = data_na.drop(data_na[data_na == 0].index).sort_values(ascending=False)\n",
    "missing_data = pd.DataFrame({\"Missing\": data.isnull().sum(),  \"%\": data_na}).sort_values(by=\"%\", ascending=False)[:30]\n",
    "missing_data.head(10)"
   ]
  },
  {
   "cell_type": "code",
   "execution_count": 22,
   "metadata": {},
   "outputs": [
    {
     "data": {
      "image/png": "[encoded data removed]",
      "text/plain": [
       "<Figure size 576x432 with 1 Axes>"
      ]
     },
     "metadata": {},
     "output_type": "display_data"
    }
   ],
   "source": [
    "f, ax = plt.subplots(figsize=(8,6))\n",
    "sns.barplot(x=data_na[:10], y=data_na.index[:10])\n",
    "plt.xlabel('% of Missing Values', fontsize=15)\n",
    "plt.ylabel('Features', fontsize=15)\n",
    "plt.title('Top Variables for % of Missing Values', fontsize=15);"
   ]
  },
  {
   "cell_type": "markdown",
   "metadata": {},
   "source": [
    "We search for features that have a high correlation with <i>'Weight'</i> and <i>'Height'</i>. What we find is not a surprise."
   ]
  },
  {
   "cell_type": "code",
   "execution_count": 23,
   "metadata": {},
   "outputs": [
    {
     "data": {
      "text/plain": [
       "Weight    1.000000\n",
       "Height    0.695696\n",
       "Female   -0.644266\n",
       "Name: Weight, dtype: float64"
      ]
     },
     "execution_count": 23,
     "metadata": {},
     "output_type": "execute_result"
    }
   ],
   "source": [
    "corr_weight = corr[\"Weight\"].sort_values(ascending=False)\n",
    "imp_corr_weight = corr_weight[corr_weight.abs() > 0.4]\n",
    "imp_corr_weight"
   ]
  },
  {
   "cell_type": "markdown",
   "metadata": {},
   "source": [
    "We try to impute the missing values for these features by using what we just discovered."
   ]
  },
  {
   "cell_type": "code",
   "execution_count": 24,
   "metadata": {},
   "outputs": [],
   "source": [
    "# Filling missing value of Weight with the median weight of similar rows according to Height and Female\n",
    "index_NaN_weight = list(data[\"Weight\"][data[\"Weight\"].isnull()].index)\n",
    "\n",
    "for i in index_NaN_weight:\n",
    "    weight_med = data[\"Weight\"].median()\n",
    "    weight_pred = data[\"Weight\"][((data['Height'] == data.iloc[i][\"Height\"]) & (data['Female'] == data.iloc[i][\"Female\"]))].median()\n",
    "    if not np.isnan(weight_pred) :\n",
    "        data['Weight'].iloc[i] = weight_pred\n",
    "    else:\n",
    "        data['Weight'].iloc[i] = weight_med"
   ]
  },
  {
   "cell_type": "code",
   "execution_count": 25,
   "metadata": {},
   "outputs": [],
   "source": [
    "# Filling missing value of Height with the median weight of similar rows according to Weight and Female\n",
    "index_NaN_height = list(data[\"Height\"][data[\"Height\"].isnull()].index)\n",
    "\n",
    "for i in index_NaN_height:\n",
    "    height_med = data[\"Height\"].median()\n",
    "    height_pred = data[\"Height\"][((data['Weight'] == data.iloc[i][\"Weight\"]) & (data['Female'] == data.iloc[i][\"Female\"]))].median()\n",
    "    if not np.isnan(height_pred) :\n",
    "        data['Height'].iloc[i] = height_pred\n",
    "    else:\n",
    "        data['Height'].iloc[i] = height_med"
   ]
  },
  {
   "cell_type": "markdown",
   "metadata": {},
   "source": [
    "We substitute the remaining missing values with the most frequent value in their column."
   ]
  },
  {
   "cell_type": "code",
   "execution_count": 26,
   "metadata": {},
   "outputs": [
    {
     "name": "stdout",
     "output_type": "stream",
     "text": [
      "Missing values: 0\n"
     ]
    }
   ],
   "source": [
    "imp = SimpleImputer(missing_values=np.nan, strategy='most_frequent')\n",
    "data = pd.DataFrame(data=imp.fit_transform(data), columns=data.columns, index=data.index)\n",
    "\n",
    "print(\"Missing values: %d\" % (data.isnull().sum().sum()))"
   ]
  },
  {
   "cell_type": "markdown",
   "metadata": {},
   "source": [
    "### Outliers detection"
   ]
  },
  {
   "cell_type": "markdown",
   "metadata": {},
   "source": [
    "There are probably not going to be a lot of features prone to outliers, given that most of them have values ranging only from 1 to 5. <br>\n",
    "Two of the most prone ones are, again, <i>'Weight'</i> and <i>'Height'</i>. <br>\n",
    "Let's visualize them."
   ]
  },
  {
   "cell_type": "code",
   "execution_count": 27,
   "metadata": {},
   "outputs": [
    {
     "data": {
      "image/png": "[encoded data removed]",
      "text/plain": [
       "<Figure size 432x432 with 3 Axes>"
      ]
     },
     "metadata": {},
     "output_type": "display_data"
    }
   ],
   "source": [
    "sns.jointplot(x='Weight', y='Height', data=data);"
   ]
  },
  {
   "cell_type": "markdown",
   "metadata": {},
   "source": [
    "Let's have a closer look to the <i>'Weight'</i> outliers. We plot them with <i>'Age'</i>."
   ]
  },
  {
   "cell_type": "code",
   "execution_count": 28,
   "metadata": {},
   "outputs": [
    {
     "data": {
      "image/png": "[encoded data removed]",
      "text/plain": [
       "<Figure size 1152x432 with 1 Axes>"
      ]
     },
     "metadata": {},
     "output_type": "display_data"
    }
   ],
   "source": [
    "sns.scatterplot(x=\"Weight\", y=\"Age\", data=data[data[\"Weight\"] > 100]);"
   ]
  },
  {
   "cell_type": "markdown",
   "metadata": {},
   "source": [
    "There is not much that we can say about these outliers. They are feasible values, so we leave them be."
   ]
  },
  {
   "cell_type": "markdown",
   "metadata": {},
   "source": [
    "But what about that lonely <i>'Height'</i> value?"
   ]
  },
  {
   "cell_type": "code",
   "execution_count": 29,
   "metadata": {},
   "outputs": [
    {
     "data": {
      "text/html": [
       "<div>\n",
       "<style scoped>\n",
       "    .dataframe tbody tr th:only-of-type {\n",
       "        vertical-align: middle;\n",
       "    }\n",
       "\n",
       "    .dataframe tbody tr th {\n",
       "        vertical-align: top;\n",
       "    }\n",
       "\n",
       "    .dataframe thead th {\n",
       "        text-align: right;\n",
       "    }\n",
       "</style>\n",
       "<table border=\"1\" class=\"dataframe\">\n",
       "  <thead>\n",
       "    <tr style=\"text-align: right;\">\n",
       "      <th></th>\n",
       "      <th>Female</th>\n",
       "      <th>Age</th>\n",
       "      <th>Height</th>\n",
       "      <th>Weight</th>\n",
       "      <th>Smoker</th>\n",
       "    </tr>\n",
       "  </thead>\n",
       "  <tbody>\n",
       "    <tr>\n",
       "      <th>676</th>\n",
       "      <td>1.0</td>\n",
       "      <td>20.0</td>\n",
       "      <td>62.0</td>\n",
       "      <td>55.0</td>\n",
       "      <td>1.0</td>\n",
       "    </tr>\n",
       "  </tbody>\n",
       "</table>\n",
       "</div>"
      ],
      "text/plain": [
       "     Female   Age  Height  Weight  Smoker\n",
       "676     1.0  20.0    62.0    55.0     1.0"
      ]
     },
     "execution_count": 29,
     "metadata": {},
     "output_type": "execute_result"
    }
   ],
   "source": [
    "data.loc[data[\"Height\"] < 100, ['Female', 'Age', 'Height', 'Weight', 'Smoker']]"
   ]
  },
  {
   "cell_type": "markdown",
   "metadata": {},
   "source": [
    "The <i>'Height'</i> outlier is certainly a mistake made compiling the survey, probably it was meant to be 162. So we fix it."
   ]
  },
  {
   "cell_type": "code",
   "execution_count": 30,
   "metadata": {},
   "outputs": [],
   "source": [
    "data.loc[676, 'Height'] = 162"
   ]
  },
  {
   "cell_type": "markdown",
   "metadata": {},
   "source": [
    "### Binning of continuous variables"
   ]
  },
  {
   "cell_type": "markdown",
   "metadata": {},
   "source": [
    "Binning refers to dividing a list of continuous variables into groups. <br>\n",
    "We bin values of <i>'Age'</i>, <i>'Weight'</i> and <i>'Height'</i> in order to improve the accuracy of the models."
   ]
  },
  {
   "cell_type": "code",
   "execution_count": 31,
   "metadata": {},
   "outputs": [],
   "source": [
    "# Continuous variable bins, we found that 5, 6, 6 are the optimal numbers in this case.\n",
    "data['AgeBin'] = pd.cut(data['Age'], 5)\n",
    "data['HeightBin'] = pd.qcut(data['Height'].astype(int), 6)\n",
    "data['WeightBin'] = pd.qcut(data['Weight'].astype(int), 6)\n",
    "\n",
    "# Convert objects to categories.\n",
    "data['Age'] = LabelEncoder().fit_transform(data['AgeBin'])\n",
    "data['Height'] = LabelEncoder().fit_transform(data['HeightBin'])\n",
    "data['Weight'] = LabelEncoder().fit_transform(data['WeightBin'])\n",
    "\n",
    "# Drop unnecessary features.\n",
    "drop_features = ['AgeBin', 'HeightBin', 'WeightBin']\n",
    "data = data.drop(drop_features, axis=1)"
   ]
  },
  {
   "cell_type": "markdown",
   "metadata": {},
   "source": [
    "Now we save the cleaned data into a file, ready to be used for modeling."
   ]
  },
  {
   "cell_type": "code",
   "execution_count": 32,
   "metadata": {},
   "outputs": [],
   "source": [
    "data.to_csv(\"data/clean_data.csv\", index=False)"
   ]
  }
 ],
 "metadata": {
  "kernelspec": {
   "display_name": "Python 3",
   "language": "python",
   "name": "python3"
  },
  "language_info": {
   "codemirror_mode": {
    "name": "ipython",
    "version": 3
   },
   "file_extension": ".py",
   "mimetype": "text/x-python",
   "name": "python",
   "nbconvert_exporter": "python",
   "pygments_lexer": "ipython3",
   "version": "3.7.3"
  }
 },
 "nbformat": 4,
 "nbformat_minor": 1
}
