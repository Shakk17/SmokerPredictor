{
 "cells": [
  {
   "cell_type": "markdown",
   "metadata": {},
   "source": [
    " # DATA ANALYSIS\n"
   ]
  },
  {
   "cell_type": "code",
   "execution_count": 151,
   "metadata": {
    "pycharm": {
     "is_executing": false
    }
   },
   "outputs": [],
   "source": [
    "import pandas as pd\n",
    "import numpy as np\n",
    "\n",
    "# Visualization\n",
    "import seaborn as sns\n",
    "import matplotlib.pyplot as plt\n",
    "%matplotlib inline\n",
    "\n",
    "# Preprocessing\n",
    "from sklearn.impute import SimpleImputer\n",
    "from sklearn.preprocessing import LabelEncoder"
   ]
  },
  {
   "cell_type": "markdown",
   "metadata": {},
   "source": [
    "### Acquiring data"
   ]
  },
  {
   "cell_type": "code",
   "execution_count": 152,
   "metadata": {
    "pycharm": {
     "is_executing": false
    }
   },
   "outputs": [],
   "source": [
    "data = pd.read_csv(\"data/responses.csv\")"
   ]
  },
  {
   "cell_type": "markdown",
   "metadata": {},
   "source": [
    "Quick look at how the data is composed."
   ]
  },
  {
   "cell_type": "code",
   "execution_count": 153,
   "metadata": {},
   "outputs": [
    {
     "name": "stdout",
     "output_type": "stream",
     "text": [
      "<class 'pandas.core.frame.DataFrame'>\n",
      "RangeIndex: 1010 entries, 0 to 1009\n",
      "Columns: 150 entries, Music to House - block of flats\n",
      "dtypes: float64(134), int64(5), object(11)\n",
      "memory usage: 1.2+ MB\n"
     ]
    }
   ],
   "source": [
    "data.info()"
   ]
  },
  {
   "cell_type": "markdown",
   "metadata": {},
   "source": [
    "### Target variable"
   ]
  },
  {
   "cell_type": "markdown",
   "metadata": {},
   "source": [
    "Our target variable is \"Smoking\". We check its properties."
   ]
  },
  {
   "cell_type": "code",
   "execution_count": 154,
   "metadata": {},
   "outputs": [
    {
     "data": {
      "text/plain": [
       "count              1002\n",
       "unique                4\n",
       "top       tried smoking\n",
       "freq                430\n",
       "Name: Smoking, dtype: object"
      ]
     },
     "execution_count": 154,
     "metadata": {},
     "output_type": "execute_result"
    }
   ],
   "source": [
    "y = data[\"Smoking\"]\n",
    "y.describe()"
   ]
  },
  {
   "cell_type": "markdown",
   "metadata": {},
   "source": [
    "How many missing values does it have?"
   ]
  },
  {
   "cell_type": "code",
   "execution_count": 155,
   "metadata": {},
   "outputs": [
    {
     "name": "stdout",
     "output_type": "stream",
     "text": [
      "Number of missing values in target: 8\n"
     ]
    }
   ],
   "source": [
    "print(\"Number of missing values in target: %d\" % y.isnull().sum())"
   ]
  },
  {
   "cell_type": "markdown",
   "metadata": {},
   "source": [
    "In the rows with a missing value for the target variable \"Smoking\", what values are missing?"
   ]
  },
  {
   "cell_type": "code",
   "execution_count": 156,
   "metadata": {},
   "outputs": [
    {
     "name": "stdout",
     "output_type": "stream",
     "text": [
      "Index: 130 - Missing:  Documentary - Smoking - Alcohol - \n",
      "Index: 149 - Missing:  Smoking - \n",
      "Index: 525 - Missing:  Fun with friends - Smoking - Friends versus money - Hypochondria - \n",
      "Index: 567 - Missing:  Documentary - Biology - Smoking - Giving - Charity - Spending on looks - \n",
      "Index: 629 - Missing:  Smoking - Alcohol - Healthy eating - \n",
      "Index: 708 - Missing:  Smoking - Alcohol - Healthy eating - \n",
      "Index: 763 - Missing:  Geography - Smoking - \n",
      "Index: 980 - Missing:  Passive sport - Smoking - \n",
      "----------------------------------------\n",
      "Smoking: 8\n",
      "Alcohol: 3\n",
      "Documentary: 2\n",
      "Healthy eating: 2\n",
      "Fun with friends: 1\n",
      "Friends versus money: 1\n",
      "Hypochondria: 1\n",
      "Biology: 1\n",
      "Giving: 1\n",
      "Charity: 1\n",
      "Spending on looks: 1\n",
      "Geography: 1\n",
      "Passive sport: 1\n"
     ]
    }
   ],
   "source": [
    "values_missing = dict()\n",
    "for index, row in data[y.isnull()].iterrows():\n",
    "    print(\"Index: %d - Missing: \"% index, end=\" \")\n",
    "    for col in row[row.isnull()].index:\n",
    "        print(col, end=\" - \")\n",
    "        if col in values_missing:\n",
    "            values_missing[col] += 1\n",
    "        else:\n",
    "            values_missing[col] = 1\n",
    "    print()\n",
    "print(\"-\" * 40)\n",
    "for key in sorted(values_missing, key=values_missing.get, reverse=True):\n",
    "    print(\"%s: %d\" % (key, values_missing[key]))"
   ]
  },
  {
   "cell_type": "markdown",
   "metadata": {},
   "source": [
    "Interesting to notice:\n",
    "- Three people that chose to not indicate their smoking habits also avoided talking about alcohol consumption.\n",
    "- Two of them also avoided talking about health habits."
   ]
  },
  {
   "cell_type": "markdown",
   "metadata": {},
   "source": [
    "We remove the rows with missing values for the target."
   ]
  },
  {
   "cell_type": "code",
   "execution_count": 157,
   "metadata": {},
   "outputs": [
    {
     "name": "stdout",
     "output_type": "stream",
     "text": [
      "Number of missing values in target: 0\n"
     ]
    }
   ],
   "source": [
    "data = data.drop(data[y.isnull()].index)\n",
    "print(\"Number of missing values in target: %d\" % data[\"Smoking\"].isnull().sum())"
   ]
  },
  {
   "cell_type": "markdown",
   "metadata": {},
   "source": [
    "### Encoding of categorical variables"
   ]
  },
  {
   "cell_type": "markdown",
   "metadata": {},
   "source": [
    "We transform categorical variables into numerical ones."
   ]
  },
  {
   "cell_type": "code",
   "execution_count": 158,
   "metadata": {},
   "outputs": [
    {
     "data": {
      "text/html": [
       "<div>\n",
       "<style scoped>\n",
       "    .dataframe tbody tr th:only-of-type {\n",
       "        vertical-align: middle;\n",
       "    }\n",
       "\n",
       "    .dataframe tbody tr th {\n",
       "        vertical-align: top;\n",
       "    }\n",
       "\n",
       "    .dataframe thead th {\n",
       "        text-align: right;\n",
       "    }\n",
       "</style>\n",
       "<table border=\"1\" class=\"dataframe\">\n",
       "  <thead>\n",
       "    <tr style=\"text-align: right;\">\n",
       "      <th></th>\n",
       "      <th>Smoking</th>\n",
       "      <th>Alcohol</th>\n",
       "      <th>Punctuality</th>\n",
       "      <th>Lying</th>\n",
       "      <th>Internet usage</th>\n",
       "      <th>Gender</th>\n",
       "      <th>Left - right handed</th>\n",
       "      <th>Education</th>\n",
       "      <th>Only child</th>\n",
       "      <th>Village - town</th>\n",
       "      <th>House - block of flats</th>\n",
       "    </tr>\n",
       "  </thead>\n",
       "  <tbody>\n",
       "    <tr>\n",
       "      <th>count</th>\n",
       "      <td>1002</td>\n",
       "      <td>1000</td>\n",
       "      <td>1000</td>\n",
       "      <td>1000</td>\n",
       "      <td>1002</td>\n",
       "      <td>996</td>\n",
       "      <td>999</td>\n",
       "      <td>1001</td>\n",
       "      <td>1000</td>\n",
       "      <td>998</td>\n",
       "      <td>998</td>\n",
       "    </tr>\n",
       "    <tr>\n",
       "      <th>unique</th>\n",
       "      <td>4</td>\n",
       "      <td>3</td>\n",
       "      <td>3</td>\n",
       "      <td>4</td>\n",
       "      <td>4</td>\n",
       "      <td>2</td>\n",
       "      <td>2</td>\n",
       "      <td>6</td>\n",
       "      <td>2</td>\n",
       "      <td>2</td>\n",
       "      <td>2</td>\n",
       "    </tr>\n",
       "    <tr>\n",
       "      <th>top</th>\n",
       "      <td>tried smoking</td>\n",
       "      <td>social drinker</td>\n",
       "      <td>i am always on time</td>\n",
       "      <td>sometimes</td>\n",
       "      <td>few hours a day</td>\n",
       "      <td>female</td>\n",
       "      <td>right handed</td>\n",
       "      <td>secondary school</td>\n",
       "      <td>no</td>\n",
       "      <td>city</td>\n",
       "      <td>block of flats</td>\n",
       "    </tr>\n",
       "    <tr>\n",
       "      <th>freq</th>\n",
       "      <td>430</td>\n",
       "      <td>658</td>\n",
       "      <td>396</td>\n",
       "      <td>544</td>\n",
       "      <td>737</td>\n",
       "      <td>589</td>\n",
       "      <td>899</td>\n",
       "      <td>617</td>\n",
       "      <td>747</td>\n",
       "      <td>702</td>\n",
       "      <td>590</td>\n",
       "    </tr>\n",
       "  </tbody>\n",
       "</table>\n",
       "</div>"
      ],
      "text/plain": [
       "              Smoking         Alcohol          Punctuality      Lying  \\\n",
       "count            1002            1000                 1000       1000   \n",
       "unique              4               3                    3          4   \n",
       "top     tried smoking  social drinker  i am always on time  sometimes   \n",
       "freq              430             658                  396        544   \n",
       "\n",
       "         Internet usage  Gender Left - right handed         Education  \\\n",
       "count              1002     996                 999              1001   \n",
       "unique                4       2                   2                 6   \n",
       "top     few hours a day  female        right handed  secondary school   \n",
       "freq                737     589                 899               617   \n",
       "\n",
       "       Only child Village - town House - block of flats  \n",
       "count        1000            998                    998  \n",
       "unique          2              2                      2  \n",
       "top            no           city         block of flats  \n",
       "freq          747            702                    590  "
      ]
     },
     "execution_count": 158,
     "metadata": {},
     "output_type": "execute_result"
    }
   ],
   "source": [
    "data.describe(exclude=np.number)"
   ]
  },
  {
   "cell_type": "code",
   "execution_count": 159,
   "metadata": {},
   "outputs": [],
   "source": [
    "data[\"Alcohol\"] = data[\"Alcohol\"].map({\"never\": 0, \"social drinker\": 1, \"drink a lot\": 2})\n",
    "data[\"Punctuality\"] = data[\"Punctuality\"].map({\"i am often early\": 0, \"i am always on time\": 1, \"i am often running late\": 2})\n",
    "data[\"Lying\"] = data[\"Lying\"].map({\"never\": 0, \"sometimes\": 1, \"only to avoid hurting someone\": 2, \"everytime it suits me\": 3})\n",
    "data[\"Internet usage\"] = data[\"Internet usage\"].map({\n",
    "    \"no time at all\": 0, \n",
    "    \"less than an hour a day\": 1, \n",
    "    \"few hours a day\": 2, \n",
    "    \"most of the day\": 3})\n",
    "data[\"Gender\"] = data[\"Gender\"].map({\"male\": 0, \"female\": 1})\n",
    "data[\"Left - right handed\"] = data[\"Left - right handed\"].map({\"left handed\": 0, \"right handed\": 1})\n",
    "data[\"Education\"] = data[\"Education\"].map({\n",
    "    \"currently a primary school pupil\": 0,\n",
    "    \"primary school\": 1, \n",
    "    \"secondary school\": 2, \n",
    "    \"college/bachelor degree\": 3, \n",
    "    \"masters degree\": 4,\n",
    "    \"doctorate degree\": 5})\n",
    "data[\"Only child\"] = data[\"Only child\"].map({\"no\": 0, \"yes\": 1})\n",
    "data[\"Village - town\"] = data[\"Village - town\"].map({\"village\": 0, \"city\": 1})\n",
    "data[\"House - block of flats\"] = data[\"House - block of flats\"].map({\"house/bungalow\": 0, \"block of flats\": 1})"
   ]
  },
  {
   "cell_type": "markdown",
   "metadata": {},
   "source": [
    "We try to determinate if a person has been smoking during a period of his life."
   ]
  },
  {
   "cell_type": "code",
   "execution_count": 160,
   "metadata": {},
   "outputs": [],
   "source": [
    "# Target variable\n",
    "data[\"Smoking\"] = data[\"Smoking\"].map({\n",
    "    \"never smoked\": 0, \n",
    "    \"tried smoking\": 0, \n",
    "    \"former smoker\": 1, \n",
    "    \"current smoker\": 1})"
   ]
  },
  {
   "cell_type": "markdown",
   "metadata": {},
   "source": [
    "### Correlation"
   ]
  },
  {
   "cell_type": "markdown",
   "metadata": {},
   "source": [
    "What are the most heavily correlated features?"
   ]
  },
  {
   "cell_type": "code",
   "execution_count": 161,
   "metadata": {},
   "outputs": [
    {
     "name": "stdout",
     "output_type": "stream",
     "text": [
      "Classical music & Opera: 0.5948\n",
      "Rock & Metal or Hardrock: 0.5290\n",
      "Rock & Punk: 0.5081\n",
      "Metal or Hardrock & Punk: 0.5446\n",
      "Horror & Thriller: 0.5055\n",
      "Fantasy/Fairy tales & Animated: 0.6757\n",
      "Mathematics & Physics: 0.5935\n",
      "Biology & Chemistry: 0.6901\n",
      "Biology & Medicine: 0.7164\n",
      "Chemistry & Medicine: 0.6260\n",
      "Art exhibitions & Theatre: 0.5345\n",
      "Religion & God: 0.5112\n",
      "Shopping & Shopping centres: 0.6490\n",
      "Shopping & Spending on looks: 0.5075\n",
      "Storm & Darkness: 0.5066\n",
      "Snakes & Rats: 0.5723\n",
      "Fear of public speaking & Public speaking: 0.5068\n",
      "Life struggles & Gender: 0.5678\n",
      "Age & Education: 0.6179\n",
      "Height & Weight: 0.6957\n",
      "Height & Gender: -0.6850\n",
      "Weight & Gender: -0.6443\n",
      "Village - town & House - block of flats: 0.6031\n"
     ]
    }
   ],
   "source": [
    "corr = data.corr()\n",
    "\n",
    "for row in range(corr.shape[0]):\n",
    "    for col in range(corr.iloc[row].shape[0]):\n",
    "        if abs(corr.iloc[row][col]) > 0.5 and row < col:\n",
    "            print(\"%s & %s: %.4f\" % (corr.index[row], corr.index[col], corr.iloc[row][col]))"
   ]
  },
  {
   "cell_type": "markdown",
   "metadata": {},
   "source": [
    "Which features are more correlated with our target variable, Smoking?"
   ]
  },
  {
   "cell_type": "code",
   "execution_count": 162,
   "metadata": {
    "scrolled": true
   },
   "outputs": [
    {
     "data": {
      "text/plain": [
       "Smoking                   1.000000\n",
       "Alcohol                   0.272063\n",
       "Entertainment spending    0.185594\n",
       "Cheating in school        0.174262\n",
       "Hiphop, Rap               0.150029\n",
       "Horror                    0.138637\n",
       "Criminal damage           0.125700\n",
       "Number of friends         0.119906\n",
       "Spending on looks         0.117810\n",
       "Age                       0.106776\n",
       "Comedy                   -0.105114\n",
       "God                      -0.105399\n",
       "Classical music          -0.107466\n",
       "Chemistry                -0.107610\n",
       "Thinking ahead           -0.113683\n",
       "Workaholism              -0.118797\n",
       "Mathematics              -0.121718\n",
       "Parents' advice          -0.129236\n",
       "Finances                 -0.173211\n",
       "Name: Smoking, dtype: float64"
      ]
     },
     "execution_count": 162,
     "metadata": {},
     "output_type": "execute_result"
    }
   ],
   "source": [
    "corr_target = corr[\"Smoking\"]\n",
    "corr_target = corr_target.sort_values(ascending=False)\n",
    "# Selection of the most correlated features.\n",
    "relevant_features = corr_target[abs(corr_target)>0.1]\n",
    "relevant_features"
   ]
  },
  {
   "cell_type": "markdown",
   "metadata": {},
   "source": [
    "A lot of interesting things emerge from this table."
   ]
  },
  {
   "cell_type": "markdown",
   "metadata": {},
   "source": [
    "We can observe that 'Alcohol' has the highest correlation value (0.27). 'Cheating in school', 'Rap culture', 'Appearances' and 'Crime' also have a positive correlation."
   ]
  },
  {
   "cell_type": "markdown",
   "metadata": {},
   "source": [
    "On the other end, 'Listening to the parental advice', 'Caring about finances' and 'God' have a negative correlation."
   ]
  },
  {
   "cell_type": "markdown",
   "metadata": {},
   "source": [
    "#### An odd fact"
   ]
  },
  {
   "cell_type": "markdown",
   "metadata": {},
   "source": [
    "While looking at these numbers, I noticed something odd. It is popular knowledge that men are usually more inclined to smoking than women, but this does not show in our dataset."
   ]
  },
  {
   "cell_type": "code",
   "execution_count": 163,
   "metadata": {},
   "outputs": [
    {
     "data": {
      "text/plain": [
       "0.02263756948527801"
      ]
     },
     "execution_count": 163,
     "metadata": {},
     "output_type": "execute_result"
    }
   ],
   "source": [
    "corr_target['Gender']"
   ]
  },
  {
   "cell_type": "markdown",
   "metadata": {},
   "source": [
    "Actually, 'Gender' has only the 61st highest correlation value! "
   ]
  },
  {
   "cell_type": "code",
   "execution_count": 164,
   "metadata": {},
   "outputs": [
    {
     "data": {
      "text/plain": [
       "59"
      ]
     },
     "execution_count": 164,
     "metadata": {},
     "output_type": "execute_result"
    }
   ],
   "source": [
    "corr_target.index.get_loc(\"Gender\")"
   ]
  },
  {
   "cell_type": "markdown",
   "metadata": {},
   "source": [
    "After some research, I found out that in Slovakia, the country where the survey that generated the dataset took place, [39.7%](https://tradingeconomics.com/slovakia/smoking-prevalence-males-percent-of-adults-wb-data.html) of the men were smokers during 2015, while only [17.6%](https://tradingeconomics.com/slovakia/smoking-prevalence-females-percent-of-adults-wb-data.html) of females were smokers."
   ]
  },
  {
   "cell_type": "markdown",
   "metadata": {},
   "source": [
    "Are those percentages respected in our dataset?"
   ]
  },
  {
   "cell_type": "code",
   "execution_count": 165,
   "metadata": {
    "scrolled": true
   },
   "outputs": [
    {
     "name": "stdout",
     "output_type": "stream",
     "text": [
      "Gender\n",
      "0.0    0.351351\n",
      "1.0    0.373514\n",
      "Name: Smoking, dtype: float64\n"
     ]
    }
   ],
   "source": [
    "group = data.groupby(\"Gender\").mean()[\"Smoking\"]\n",
    "print(group)"
   ]
  },
  {
   "cell_type": "markdown",
   "metadata": {},
   "source": [
    "In our dataset 37% of the men are smokers, which is on par with the national average. But women "
   ]
  },
  {
   "cell_type": "markdown",
   "metadata": {},
   "source": [
    "# Missing values"
   ]
  },
  {
   "cell_type": "markdown",
   "metadata": {},
   "source": [
    "How many missing values do we still have?"
   ]
  },
  {
   "cell_type": "code",
   "execution_count": 166,
   "metadata": {},
   "outputs": [
    {
     "data": {
      "text/plain": [
       "584"
      ]
     },
     "execution_count": 166,
     "metadata": {},
     "output_type": "execute_result"
    }
   ],
   "source": [
    "data.isnull().sum().sum()"
   ]
  },
  {
   "cell_type": "markdown",
   "metadata": {},
   "source": [
    "There are still a lot of missing values, so we will try to impute those.\n",
    "We substitute missing values with the most frequent value in its column."
   ]
  },
  {
   "cell_type": "code",
   "execution_count": 167,
   "metadata": {},
   "outputs": [],
   "source": [
    "imp = SimpleImputer(missing_values=np.nan, strategy='most_frequent')"
   ]
  },
  {
   "cell_type": "code",
   "execution_count": 168,
   "metadata": {},
   "outputs": [
    {
     "data": {
      "text/plain": [
       "0"
      ]
     },
     "execution_count": 168,
     "metadata": {},
     "output_type": "execute_result"
    }
   ],
   "source": [
    "data = pd.DataFrame(data=imp.fit_transform(data), columns=data.columns, index=data.index)\n",
    "data.isnull().sum().sum()"
   ]
  },
  {
   "cell_type": "markdown",
   "metadata": {},
   "source": [
    "### Binning of continuous variables"
   ]
  },
  {
   "cell_type": "code",
   "execution_count": 169,
   "metadata": {},
   "outputs": [],
   "source": [
    "# Continuous variable bins\n",
    "data['AgeBin'] = pd.cut(data['Age'], 5)\n",
    "data['HeightBin'] = pd.qcut(data['Height'].astype(int), 5)\n",
    "data['WeightBin'] = pd.qcut(data['Weight'].astype(int), 5)\n",
    "\n",
    "# Convert objects to categories\n",
    "data['Age'] = LabelEncoder().fit_transform(data['AgeBin'])\n",
    "data['Height'] = LabelEncoder().fit_transform(data['HeightBin'])\n",
    "data['Weight'] = LabelEncoder().fit_transform(data['WeightBin'])\n",
    "\n",
    "# Drop unnecessary features\n",
    "drop_features = ['AgeBin', 'HeightBin', 'WeightBin']\n",
    "data = data.drop(drop_features, axis=1)"
   ]
  },
  {
   "cell_type": "markdown",
   "metadata": {},
   "source": [
    "Now we save the cleaned data into a file, ready to be used for modeling."
   ]
  },
  {
   "cell_type": "code",
   "execution_count": 170,
   "metadata": {},
   "outputs": [],
   "source": [
    "# data = data[relevant_features.index]\n",
    "data.to_csv(\"data/clean_data.csv\")"
   ]
  },
  {
   "cell_type": "code",
   "execution_count": null,
   "metadata": {},
   "outputs": [],
   "source": []
  }
 ],
 "metadata": {
  "kernelspec": {
   "display_name": "Python 3",
   "language": "python",
   "name": "python3"
  },
  "language_info": {
   "codemirror_mode": {
    "name": "ipython",
    "version": 3
   },
   "file_extension": ".py",
   "mimetype": "text/x-python",
   "name": "python",
   "nbconvert_exporter": "python",
   "pygments_lexer": "ipython3",
   "version": "3.7.3"
  }
 },
 "nbformat": 4,
 "nbformat_minor": 1
}
