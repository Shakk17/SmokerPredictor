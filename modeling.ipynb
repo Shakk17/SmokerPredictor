{
 "cells": [
  {
   "cell_type": "markdown",
   "metadata": {},
   "source": [
    "# Data modeling"
   ]
  },
  {
   "cell_type": "code",
   "execution_count": 83,
   "metadata": {},
   "outputs": [],
   "source": [
    "import pandas as pd\n",
    "import numpy as np\n",
    "\n",
    "from sklearn.model_selection import train_test_split\n",
    "from sklearn.preprocessing import StandardScaler\n",
    "\n",
    "from sklearn.dummy import DummyClassifier\n",
    "from sklearn.neighbors import KNeighborsClassifier\n",
    "from sklearn.svm import SVC\n",
    "from sklearn.gaussian_process import GaussianProcessClassifier\n",
    "from sklearn.gaussian_process.kernels import RBF\n",
    "from sklearn.ensemble import RandomForestClassifier, AdaBoostClassifier\n",
    "from sklearn.naive_bayes import GaussianNB"
   ]
  },
  {
   "cell_type": "markdown",
   "metadata": {},
   "source": [
    "We load the data precedently cleaned in data_analysis.ipynb."
   ]
  },
  {
   "cell_type": "code",
   "execution_count": 84,
   "metadata": {},
   "outputs": [
    {
     "name": "stderr",
     "output_type": "stream",
     "text": [
      "C:\\Users\\Shakk17\\Anaconda3\\lib\\site-packages\\sklearn\\preprocessing\\data.py:645: DataConversionWarning: Data with input dtype int64, float64 were all converted to float64 by StandardScaler.\n",
      "  return self.partial_fit(X, y)\n",
      "C:\\Users\\Shakk17\\Anaconda3\\lib\\site-packages\\sklearn\\base.py:464: DataConversionWarning: Data with input dtype int64, float64 were all converted to float64 by StandardScaler.\n",
      "  return self.fit(X, **fit_params).transform(X)\n"
     ]
    }
   ],
   "source": [
    "data = pd.read_csv(\"data/clean_data.csv\")\n",
    "x = data.drop(\"Smoking\", axis=1)\n",
    "x = pd.DataFrame(data=StandardScaler().fit_transform(x), columns=x.columns, index=x.index)\n",
    "y = data[\"Smoking\"]"
   ]
  },
  {
   "cell_type": "markdown",
   "metadata": {},
   "source": [
    "We split the data for training and testing."
   ]
  },
  {
   "cell_type": "code",
   "execution_count": 85,
   "metadata": {},
   "outputs": [
    {
     "data": {
      "text/html": [
       "<div>\n",
       "<style scoped>\n",
       "    .dataframe tbody tr th:only-of-type {\n",
       "        vertical-align: middle;\n",
       "    }\n",
       "\n",
       "    .dataframe tbody tr th {\n",
       "        vertical-align: top;\n",
       "    }\n",
       "\n",
       "    .dataframe thead th {\n",
       "        text-align: right;\n",
       "    }\n",
       "</style>\n",
       "<table border=\"1\" class=\"dataframe\">\n",
       "  <thead>\n",
       "    <tr style=\"text-align: right;\">\n",
       "      <th></th>\n",
       "      <th>Unnamed: 0</th>\n",
       "      <th>Music</th>\n",
       "      <th>Slow songs or fast songs</th>\n",
       "      <th>Dance</th>\n",
       "      <th>Folk</th>\n",
       "      <th>Country</th>\n",
       "      <th>Classical music</th>\n",
       "      <th>Musical</th>\n",
       "      <th>Pop</th>\n",
       "      <th>Rock</th>\n",
       "      <th>...</th>\n",
       "      <th>Gender_female</th>\n",
       "      <th>Gender_male</th>\n",
       "      <th>Left - right handed_left handed</th>\n",
       "      <th>Left - right handed_right handed</th>\n",
       "      <th>Only child_no</th>\n",
       "      <th>Only child_yes</th>\n",
       "      <th>Village - town_city</th>\n",
       "      <th>Village - town_village</th>\n",
       "      <th>House - block of flats_block of flats</th>\n",
       "      <th>House - block of flats_house/bungalow</th>\n",
       "    </tr>\n",
       "  </thead>\n",
       "  <tbody>\n",
       "    <tr>\n",
       "      <th>368</th>\n",
       "      <td>-0.377914</td>\n",
       "      <td>0.401286</td>\n",
       "      <td>0.824163</td>\n",
       "      <td>-1.812488</td>\n",
       "      <td>-1.121607</td>\n",
       "      <td>0.819654</td>\n",
       "      <td>-1.568627</td>\n",
       "      <td>-1.407952</td>\n",
       "      <td>-2.162417</td>\n",
       "      <td>-0.647248</td>\n",
       "      <td>...</td>\n",
       "      <td>-1.202329</td>\n",
       "      <td>1.210269</td>\n",
       "      <td>-0.326623</td>\n",
       "      <td>0.332548</td>\n",
       "      <td>0.582243</td>\n",
       "      <td>-0.578981</td>\n",
       "      <td>0.646078</td>\n",
       "      <td>-0.641141</td>\n",
       "      <td>0.829898</td>\n",
       "      <td>-0.824448</td>\n",
       "    </tr>\n",
       "    <tr>\n",
       "      <th>389</th>\n",
       "      <td>-0.302319</td>\n",
       "      <td>0.401286</td>\n",
       "      <td>-0.395288</td>\n",
       "      <td>-0.092901</td>\n",
       "      <td>-1.121607</td>\n",
       "      <td>-1.044812</td>\n",
       "      <td>-1.568627</td>\n",
       "      <td>-1.407952</td>\n",
       "      <td>1.319581</td>\n",
       "      <td>1.049979</td>\n",
       "      <td>...</td>\n",
       "      <td>0.831719</td>\n",
       "      <td>-0.826262</td>\n",
       "      <td>-0.326623</td>\n",
       "      <td>0.332548</td>\n",
       "      <td>0.582243</td>\n",
       "      <td>-0.578981</td>\n",
       "      <td>-1.547800</td>\n",
       "      <td>1.559720</td>\n",
       "      <td>-1.204968</td>\n",
       "      <td>1.212932</td>\n",
       "    </tr>\n",
       "    <tr>\n",
       "      <th>909</th>\n",
       "      <td>1.608158</td>\n",
       "      <td>0.401286</td>\n",
       "      <td>0.824163</td>\n",
       "      <td>-0.952695</td>\n",
       "      <td>1.525386</td>\n",
       "      <td>0.819654</td>\n",
       "      <td>0.830051</td>\n",
       "      <td>-0.613982</td>\n",
       "      <td>-1.291917</td>\n",
       "      <td>1.049979</td>\n",
       "      <td>...</td>\n",
       "      <td>-1.202329</td>\n",
       "      <td>1.210269</td>\n",
       "      <td>-0.326623</td>\n",
       "      <td>0.332548</td>\n",
       "      <td>0.582243</td>\n",
       "      <td>-0.578981</td>\n",
       "      <td>0.646078</td>\n",
       "      <td>-0.641141</td>\n",
       "      <td>0.829898</td>\n",
       "      <td>-0.824448</td>\n",
       "    </tr>\n",
       "    <tr>\n",
       "      <th>357</th>\n",
       "      <td>-0.415711</td>\n",
       "      <td>0.401286</td>\n",
       "      <td>-0.395288</td>\n",
       "      <td>0.766892</td>\n",
       "      <td>0.643055</td>\n",
       "      <td>1.751887</td>\n",
       "      <td>-0.769067</td>\n",
       "      <td>-0.613982</td>\n",
       "      <td>1.319581</td>\n",
       "      <td>-2.344474</td>\n",
       "      <td>...</td>\n",
       "      <td>0.831719</td>\n",
       "      <td>-0.826262</td>\n",
       "      <td>-0.326623</td>\n",
       "      <td>0.332548</td>\n",
       "      <td>-1.717496</td>\n",
       "      <td>1.727172</td>\n",
       "      <td>-1.547800</td>\n",
       "      <td>1.559720</td>\n",
       "      <td>0.829898</td>\n",
       "      <td>-0.824448</td>\n",
       "    </tr>\n",
       "    <tr>\n",
       "      <th>745</th>\n",
       "      <td>1.006839</td>\n",
       "      <td>-2.716523</td>\n",
       "      <td>2.043614</td>\n",
       "      <td>-0.092901</td>\n",
       "      <td>-0.239276</td>\n",
       "      <td>-0.112579</td>\n",
       "      <td>0.830051</td>\n",
       "      <td>0.179989</td>\n",
       "      <td>1.319581</td>\n",
       "      <td>-2.344474</td>\n",
       "      <td>...</td>\n",
       "      <td>-1.202329</td>\n",
       "      <td>1.210269</td>\n",
       "      <td>3.061638</td>\n",
       "      <td>-3.007084</td>\n",
       "      <td>0.582243</td>\n",
       "      <td>-0.578981</td>\n",
       "      <td>0.646078</td>\n",
       "      <td>-0.641141</td>\n",
       "      <td>-1.204968</td>\n",
       "      <td>1.212932</td>\n",
       "    </tr>\n",
       "  </tbody>\n",
       "</table>\n",
       "<p>5 rows × 155 columns</p>\n",
       "</div>"
      ],
      "text/plain": [
       "     Unnamed: 0     Music  Slow songs or fast songs     Dance      Folk  \\\n",
       "368   -0.377914  0.401286                  0.824163 -1.812488 -1.121607   \n",
       "389   -0.302319  0.401286                 -0.395288 -0.092901 -1.121607   \n",
       "909    1.608158  0.401286                  0.824163 -0.952695  1.525386   \n",
       "357   -0.415711  0.401286                 -0.395288  0.766892  0.643055   \n",
       "745    1.006839 -2.716523                  2.043614 -0.092901 -0.239276   \n",
       "\n",
       "      Country  Classical music   Musical       Pop      Rock  ...  \\\n",
       "368  0.819654        -1.568627 -1.407952 -2.162417 -0.647248  ...   \n",
       "389 -1.044812        -1.568627 -1.407952  1.319581  1.049979  ...   \n",
       "909  0.819654         0.830051 -0.613982 -1.291917  1.049979  ...   \n",
       "357  1.751887        -0.769067 -0.613982  1.319581 -2.344474  ...   \n",
       "745 -0.112579         0.830051  0.179989  1.319581 -2.344474  ...   \n",
       "\n",
       "     Gender_female  Gender_male  Left - right handed_left handed  \\\n",
       "368      -1.202329     1.210269                        -0.326623   \n",
       "389       0.831719    -0.826262                        -0.326623   \n",
       "909      -1.202329     1.210269                        -0.326623   \n",
       "357       0.831719    -0.826262                        -0.326623   \n",
       "745      -1.202329     1.210269                         3.061638   \n",
       "\n",
       "     Left - right handed_right handed  Only child_no  Only child_yes  \\\n",
       "368                          0.332548       0.582243       -0.578981   \n",
       "389                          0.332548       0.582243       -0.578981   \n",
       "909                          0.332548       0.582243       -0.578981   \n",
       "357                          0.332548      -1.717496        1.727172   \n",
       "745                         -3.007084       0.582243       -0.578981   \n",
       "\n",
       "     Village - town_city  Village - town_village  \\\n",
       "368             0.646078               -0.641141   \n",
       "389            -1.547800                1.559720   \n",
       "909             0.646078               -0.641141   \n",
       "357            -1.547800                1.559720   \n",
       "745             0.646078               -0.641141   \n",
       "\n",
       "     House - block of flats_block of flats  \\\n",
       "368                               0.829898   \n",
       "389                              -1.204968   \n",
       "909                               0.829898   \n",
       "357                               0.829898   \n",
       "745                              -1.204968   \n",
       "\n",
       "     House - block of flats_house/bungalow  \n",
       "368                              -0.824448  \n",
       "389                               1.212932  \n",
       "909                              -0.824448  \n",
       "357                              -0.824448  \n",
       "745                               1.212932  \n",
       "\n",
       "[5 rows x 155 columns]"
      ]
     },
     "execution_count": 85,
     "metadata": {},
     "output_type": "execute_result"
    }
   ],
   "source": [
    "# We use stratify to keep a balanced amount of values for the target categories.\n",
    "x_train, x_test, y_train, y_test = train_test_split(x, y, test_size=0.20, random_state=17, stratify=y)\n",
    "x_train.head()"
   ]
  },
  {
   "cell_type": "code",
   "execution_count": 86,
   "metadata": {},
   "outputs": [
    {
     "data": {
      "text/plain": [
       "1    322\n",
       "0    157\n",
       "4    142\n",
       "3    134\n",
       "Name: Smoking, dtype: int64"
      ]
     },
     "execution_count": 86,
     "metadata": {},
     "output_type": "execute_result"
    }
   ],
   "source": [
    "y_train.value_counts()"
   ]
  },
  {
   "cell_type": "markdown",
   "metadata": {},
   "source": [
    "We define a baseline by using a dummy classifier that classifies everything as the most frequent class in the training dataset, \"tried smoking\"."
   ]
  },
  {
   "cell_type": "code",
   "execution_count": 87,
   "metadata": {},
   "outputs": [
    {
     "name": "stdout",
     "output_type": "stream",
     "text": [
      "0.42857142857142855\n"
     ]
    }
   ],
   "source": [
    "model_dummy = DummyClassifier(strategy=\"most_frequent\")\n",
    "model_dummy.fit(x_train, y_train)\n",
    "print(model_dummy.score(x_test, y_test))"
   ]
  },
  {
   "cell_type": "markdown",
   "metadata": {},
   "source": [
    "We add a few models to try and get a first glance at what could be successfull."
   ]
  },
  {
   "cell_type": "code",
   "execution_count": 88,
   "metadata": {},
   "outputs": [],
   "source": [
    "names = [\"Nearest Neighbors\", \"Linear SVM\", \"RBF SVM\", \"Gaussian Process\",\n",
    "         \"Random Forest\", \"AdaBoost\",\n",
    "         \"Naive Bayes\"]\n",
    "\n",
    "classifiers = [\n",
    "    KNeighborsClassifier(3),\n",
    "    SVC(kernel=\"linear\", C=0.025),\n",
    "    SVC(gamma=2, C=1),\n",
    "    GaussianProcessClassifier(1.0 * RBF(1.0)),\n",
    "    RandomForestClassifier(n_estimators=100),\n",
    "    AdaBoostClassifier(),\n",
    "    GaussianNB()]"
   ]
  },
  {
   "cell_type": "code",
   "execution_count": 89,
   "metadata": {},
   "outputs": [
    {
     "name": "stdout",
     "output_type": "stream",
     "text": [
      "Nearest Neighbors: 0.338624\n",
      "Linear SVM: 0.417989\n",
      "RBF SVM: 0.428571\n",
      "Gaussian Process: 0.211640\n",
      "Random Forest: 0.460317\n",
      "AdaBoost: 0.402116\n",
      "Naive Bayes: 0.375661\n"
     ]
    }
   ],
   "source": [
    "for name, clf in zip(names, classifiers):\n",
    "    clf.fit(x_train, y_train)\n",
    "    score = clf.score(x_test, y_test)\n",
    "    print(\"%s: %f\" % (name, score))"
   ]
  }
 ],
 "metadata": {
  "kernelspec": {
   "display_name": "Python 3",
   "language": "python",
   "name": "python3"
  },
  "language_info": {
   "codemirror_mode": {
    "name": "ipython",
    "version": 3
   },
   "file_extension": ".py",
   "mimetype": "text/x-python",
   "name": "python",
   "nbconvert_exporter": "python",
   "pygments_lexer": "ipython3",
   "version": "3.7.3"
  }
 },
 "nbformat": 4,
 "nbformat_minor": 2
}
