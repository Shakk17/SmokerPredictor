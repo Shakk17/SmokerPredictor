{
 "cells": [
  {
   "cell_type": "markdown",
   "metadata": {
    "colab_type": "text",
    "id": "06q4UPV0LmAm"
   },
   "source": [
    "# Project - Data Modeling"
   ]
  },
  {
   "cell_type": "code",
   "execution_count": 1,
   "metadata": {
    "cell_style": "center",
    "colab": {},
    "colab_type": "code",
    "id": "HN5p-WAxLmAo"
   },
   "outputs": [],
   "source": [
    "from time import time\n",
    "\n",
    "from scipy import stats\n",
    "\n",
    "import pandas as pd\n",
    "import numpy as np\n",
    "\n",
    "import warnings\n",
    "warnings.filterwarnings(\"ignore\")\n",
    "\n",
    "from sklearn.exceptions import DataConversionWarning\n",
    "warnings.filterwarnings(action='ignore', category=DataConversionWarning)\n",
    "\n",
    "import seaborn as sns\n",
    "sns.set_style(\"darkgrid\")\n",
    "\n",
    "import matplotlib.pyplot as plt\n",
    "\n",
    "from sklearn.model_selection import train_test_split\n",
    "from sklearn.preprocessing import StandardScaler\n",
    "from sklearn.model_selection import cross_val_score, GridSearchCV\n",
    "from sklearn.metrics import confusion_matrix, precision_recall_fscore_support, f1_score, matthews_corrcoef\n",
    "\n",
    "\n",
    "from sklearn.dummy import DummyClassifier\n",
    "from sklearn.neighbors import KNeighborsClassifier\n",
    "from sklearn.svm import SVC\n",
    "from sklearn.gaussian_process import GaussianProcessClassifier\n",
    "from sklearn.gaussian_process.kernels import RBF\n",
    "from sklearn.ensemble import RandomForestClassifier, AdaBoostClassifier\n",
    "from sklearn.naive_bayes import GaussianNB\n",
    "from sklearn.neural_network import MLPClassifier\n",
    "from sklearn.linear_model import LogisticRegression"
   ]
  },
  {
   "cell_type": "markdown",
   "metadata": {},
   "source": [
    "## Data preparation"
   ]
  },
  {
   "cell_type": "markdown",
   "metadata": {
    "colab_type": "text",
    "id": "yExfzHw8LmAq"
   },
   "source": [
    "We <b>load</b> the data."
   ]
  },
  {
   "cell_type": "code",
   "execution_count": 2,
   "metadata": {
    "colab": {
     "base_uri": "https://localhost:8080/",
     "height": 250
    },
    "colab_type": "code",
    "id": "cM31uQd2LmAr",
    "outputId": "e2810c23-90c7-41c4-d372-c6401ba1ffa2"
   },
   "outputs": [
    {
     "data": {
      "text/html": [
       "<div>\n",
       "<style scoped>\n",
       "    .dataframe tbody tr th:only-of-type {\n",
       "        vertical-align: middle;\n",
       "    }\n",
       "\n",
       "    .dataframe tbody tr th {\n",
       "        vertical-align: top;\n",
       "    }\n",
       "\n",
       "    .dataframe thead th {\n",
       "        text-align: right;\n",
       "    }\n",
       "</style>\n",
       "<table border=\"1\" class=\"dataframe\">\n",
       "  <thead>\n",
       "    <tr style=\"text-align: right;\">\n",
       "      <th></th>\n",
       "      <th>Music</th>\n",
       "      <th>Slow songs or fast songs</th>\n",
       "      <th>Dance</th>\n",
       "      <th>Folk</th>\n",
       "      <th>Country</th>\n",
       "      <th>Classical music</th>\n",
       "      <th>Musical</th>\n",
       "      <th>Pop</th>\n",
       "      <th>Rock</th>\n",
       "      <th>Metal or Hardrock</th>\n",
       "      <th>...</th>\n",
       "      <th>Height</th>\n",
       "      <th>Weight</th>\n",
       "      <th>Number of siblings</th>\n",
       "      <th>Education</th>\n",
       "      <th>Only child</th>\n",
       "      <th>Smoker</th>\n",
       "      <th>Female</th>\n",
       "      <th>Right handed</th>\n",
       "      <th>Living in a city</th>\n",
       "      <th>Living in a flat</th>\n",
       "    </tr>\n",
       "  </thead>\n",
       "  <tbody>\n",
       "    <tr>\n",
       "      <th>count</th>\n",
       "      <td>1002.000000</td>\n",
       "      <td>1002.000000</td>\n",
       "      <td>1002.000000</td>\n",
       "      <td>1002.000000</td>\n",
       "      <td>1002.000000</td>\n",
       "      <td>1002.000000</td>\n",
       "      <td>1002.000000</td>\n",
       "      <td>1002.000000</td>\n",
       "      <td>1002.000000</td>\n",
       "      <td>1002.000000</td>\n",
       "      <td>...</td>\n",
       "      <td>1002.000000</td>\n",
       "      <td>1002.000000</td>\n",
       "      <td>1002.000000</td>\n",
       "      <td>1002.000000</td>\n",
       "      <td>1002.000000</td>\n",
       "      <td>1002.000000</td>\n",
       "      <td>1002.000000</td>\n",
       "      <td>1002.000000</td>\n",
       "      <td>1002.000000</td>\n",
       "      <td>1002.000000</td>\n",
       "    </tr>\n",
       "    <tr>\n",
       "      <th>mean</th>\n",
       "      <td>4.736527</td>\n",
       "      <td>3.328343</td>\n",
       "      <td>3.115768</td>\n",
       "      <td>2.288423</td>\n",
       "      <td>2.126747</td>\n",
       "      <td>2.957086</td>\n",
       "      <td>2.765469</td>\n",
       "      <td>3.476048</td>\n",
       "      <td>3.768463</td>\n",
       "      <td>2.359281</td>\n",
       "      <td>...</td>\n",
       "      <td>2.382236</td>\n",
       "      <td>2.438124</td>\n",
       "      <td>1.291417</td>\n",
       "      <td>2.283433</td>\n",
       "      <td>0.252495</td>\n",
       "      <td>0.363273</td>\n",
       "      <td>0.593812</td>\n",
       "      <td>0.900200</td>\n",
       "      <td>0.704591</td>\n",
       "      <td>0.592814</td>\n",
       "    </tr>\n",
       "    <tr>\n",
       "      <th>std</th>\n",
       "      <td>0.657276</td>\n",
       "      <td>0.834433</td>\n",
       "      <td>1.167565</td>\n",
       "      <td>1.138573</td>\n",
       "      <td>1.075057</td>\n",
       "      <td>1.248837</td>\n",
       "      <td>1.261069</td>\n",
       "      <td>1.159561</td>\n",
       "      <td>1.186118</td>\n",
       "      <td>1.375052</td>\n",
       "      <td>...</td>\n",
       "      <td>1.723842</td>\n",
       "      <td>1.683992</td>\n",
       "      <td>1.004936</td>\n",
       "      <td>0.782874</td>\n",
       "      <td>0.434661</td>\n",
       "      <td>0.481183</td>\n",
       "      <td>0.491366</td>\n",
       "      <td>0.299883</td>\n",
       "      <td>0.456454</td>\n",
       "      <td>0.491555</td>\n",
       "    </tr>\n",
       "    <tr>\n",
       "      <th>min</th>\n",
       "      <td>1.000000</td>\n",
       "      <td>1.000000</td>\n",
       "      <td>1.000000</td>\n",
       "      <td>1.000000</td>\n",
       "      <td>1.000000</td>\n",
       "      <td>1.000000</td>\n",
       "      <td>1.000000</td>\n",
       "      <td>1.000000</td>\n",
       "      <td>1.000000</td>\n",
       "      <td>1.000000</td>\n",
       "      <td>...</td>\n",
       "      <td>0.000000</td>\n",
       "      <td>0.000000</td>\n",
       "      <td>0.000000</td>\n",
       "      <td>0.000000</td>\n",
       "      <td>0.000000</td>\n",
       "      <td>0.000000</td>\n",
       "      <td>0.000000</td>\n",
       "      <td>0.000000</td>\n",
       "      <td>0.000000</td>\n",
       "      <td>0.000000</td>\n",
       "    </tr>\n",
       "    <tr>\n",
       "      <th>25%</th>\n",
       "      <td>5.000000</td>\n",
       "      <td>3.000000</td>\n",
       "      <td>2.000000</td>\n",
       "      <td>1.000000</td>\n",
       "      <td>1.000000</td>\n",
       "      <td>2.000000</td>\n",
       "      <td>2.000000</td>\n",
       "      <td>3.000000</td>\n",
       "      <td>3.000000</td>\n",
       "      <td>1.000000</td>\n",
       "      <td>...</td>\n",
       "      <td>1.000000</td>\n",
       "      <td>1.000000</td>\n",
       "      <td>1.000000</td>\n",
       "      <td>2.000000</td>\n",
       "      <td>0.000000</td>\n",
       "      <td>0.000000</td>\n",
       "      <td>0.000000</td>\n",
       "      <td>1.000000</td>\n",
       "      <td>0.000000</td>\n",
       "      <td>0.000000</td>\n",
       "    </tr>\n",
       "    <tr>\n",
       "      <th>50%</th>\n",
       "      <td>5.000000</td>\n",
       "      <td>3.000000</td>\n",
       "      <td>3.000000</td>\n",
       "      <td>2.000000</td>\n",
       "      <td>2.000000</td>\n",
       "      <td>3.000000</td>\n",
       "      <td>3.000000</td>\n",
       "      <td>4.000000</td>\n",
       "      <td>4.000000</td>\n",
       "      <td>2.000000</td>\n",
       "      <td>...</td>\n",
       "      <td>2.000000</td>\n",
       "      <td>2.500000</td>\n",
       "      <td>1.000000</td>\n",
       "      <td>2.000000</td>\n",
       "      <td>0.000000</td>\n",
       "      <td>0.000000</td>\n",
       "      <td>1.000000</td>\n",
       "      <td>1.000000</td>\n",
       "      <td>1.000000</td>\n",
       "      <td>1.000000</td>\n",
       "    </tr>\n",
       "    <tr>\n",
       "      <th>75%</th>\n",
       "      <td>5.000000</td>\n",
       "      <td>4.000000</td>\n",
       "      <td>4.000000</td>\n",
       "      <td>3.000000</td>\n",
       "      <td>3.000000</td>\n",
       "      <td>4.000000</td>\n",
       "      <td>4.000000</td>\n",
       "      <td>4.000000</td>\n",
       "      <td>5.000000</td>\n",
       "      <td>3.000000</td>\n",
       "      <td>...</td>\n",
       "      <td>4.000000</td>\n",
       "      <td>4.000000</td>\n",
       "      <td>2.000000</td>\n",
       "      <td>3.000000</td>\n",
       "      <td>1.000000</td>\n",
       "      <td>1.000000</td>\n",
       "      <td>1.000000</td>\n",
       "      <td>1.000000</td>\n",
       "      <td>1.000000</td>\n",
       "      <td>1.000000</td>\n",
       "    </tr>\n",
       "    <tr>\n",
       "      <th>max</th>\n",
       "      <td>5.000000</td>\n",
       "      <td>5.000000</td>\n",
       "      <td>5.000000</td>\n",
       "      <td>5.000000</td>\n",
       "      <td>5.000000</td>\n",
       "      <td>5.000000</td>\n",
       "      <td>5.000000</td>\n",
       "      <td>5.000000</td>\n",
       "      <td>5.000000</td>\n",
       "      <td>5.000000</td>\n",
       "      <td>...</td>\n",
       "      <td>5.000000</td>\n",
       "      <td>5.000000</td>\n",
       "      <td>10.000000</td>\n",
       "      <td>5.000000</td>\n",
       "      <td>1.000000</td>\n",
       "      <td>1.000000</td>\n",
       "      <td>1.000000</td>\n",
       "      <td>1.000000</td>\n",
       "      <td>1.000000</td>\n",
       "      <td>1.000000</td>\n",
       "    </tr>\n",
       "  </tbody>\n",
       "</table>\n",
       "<p>8 rows × 150 columns</p>\n",
       "</div>"
      ],
      "text/plain": [
       "             Music  Slow songs or fast songs        Dance         Folk  \\\n",
       "count  1002.000000               1002.000000  1002.000000  1002.000000   \n",
       "mean      4.736527                  3.328343     3.115768     2.288423   \n",
       "std       0.657276                  0.834433     1.167565     1.138573   \n",
       "min       1.000000                  1.000000     1.000000     1.000000   \n",
       "25%       5.000000                  3.000000     2.000000     1.000000   \n",
       "50%       5.000000                  3.000000     3.000000     2.000000   \n",
       "75%       5.000000                  4.000000     4.000000     3.000000   \n",
       "max       5.000000                  5.000000     5.000000     5.000000   \n",
       "\n",
       "           Country  Classical music      Musical          Pop         Rock  \\\n",
       "count  1002.000000      1002.000000  1002.000000  1002.000000  1002.000000   \n",
       "mean      2.126747         2.957086     2.765469     3.476048     3.768463   \n",
       "std       1.075057         1.248837     1.261069     1.159561     1.186118   \n",
       "min       1.000000         1.000000     1.000000     1.000000     1.000000   \n",
       "25%       1.000000         2.000000     2.000000     3.000000     3.000000   \n",
       "50%       2.000000         3.000000     3.000000     4.000000     4.000000   \n",
       "75%       3.000000         4.000000     4.000000     4.000000     5.000000   \n",
       "max       5.000000         5.000000     5.000000     5.000000     5.000000   \n",
       "\n",
       "       Metal or Hardrock  ...       Height       Weight  Number of siblings  \\\n",
       "count        1002.000000  ...  1002.000000  1002.000000         1002.000000   \n",
       "mean            2.359281  ...     2.382236     2.438124            1.291417   \n",
       "std             1.375052  ...     1.723842     1.683992            1.004936   \n",
       "min             1.000000  ...     0.000000     0.000000            0.000000   \n",
       "25%             1.000000  ...     1.000000     1.000000            1.000000   \n",
       "50%             2.000000  ...     2.000000     2.500000            1.000000   \n",
       "75%             3.000000  ...     4.000000     4.000000            2.000000   \n",
       "max             5.000000  ...     5.000000     5.000000           10.000000   \n",
       "\n",
       "         Education   Only child       Smoker       Female  Right handed  \\\n",
       "count  1002.000000  1002.000000  1002.000000  1002.000000   1002.000000   \n",
       "mean      2.283433     0.252495     0.363273     0.593812      0.900200   \n",
       "std       0.782874     0.434661     0.481183     0.491366      0.299883   \n",
       "min       0.000000     0.000000     0.000000     0.000000      0.000000   \n",
       "25%       2.000000     0.000000     0.000000     0.000000      1.000000   \n",
       "50%       2.000000     0.000000     0.000000     1.000000      1.000000   \n",
       "75%       3.000000     1.000000     1.000000     1.000000      1.000000   \n",
       "max       5.000000     1.000000     1.000000     1.000000      1.000000   \n",
       "\n",
       "       Living in a city  Living in a flat  \n",
       "count       1002.000000       1002.000000  \n",
       "mean           0.704591          0.592814  \n",
       "std            0.456454          0.491555  \n",
       "min            0.000000          0.000000  \n",
       "25%            0.000000          0.000000  \n",
       "50%            1.000000          1.000000  \n",
       "75%            1.000000          1.000000  \n",
       "max            1.000000          1.000000  \n",
       "\n",
       "[8 rows x 150 columns]"
      ]
     },
     "execution_count": 2,
     "metadata": {},
     "output_type": "execute_result"
    }
   ],
   "source": [
    "data = pd.read_csv(\"data/clean_data.csv\")\n",
    "\n",
    "x = data.drop(\"Smoker\", axis=1)\n",
    "y = data[\"Smoker\"]\n",
    "\n",
    "data.describe()"
   ]
  },
  {
   "cell_type": "markdown",
   "metadata": {
    "colab_type": "text",
    "id": "vsQO_bnlLmAv"
   },
   "source": [
    "We <b>normalize</b> the data in order to better fit the models."
   ]
  },
  {
   "cell_type": "code",
   "execution_count": 3,
   "metadata": {
    "colab": {
     "base_uri": "https://localhost:8080/",
     "height": 85
    },
    "colab_type": "code",
    "id": "zVYZuGReLmAw",
    "outputId": "d78d0db9-a152-4699-9789-d169b520f863"
   },
   "outputs": [
    {
     "name": "stderr",
     "output_type": "stream",
     "text": [
      "C:\\Users\\Shakk17\\Anaconda3\\lib\\site-packages\\sklearn\\preprocessing\\data.py:645: DataConversionWarning: Data with input dtype int64, float64 were all converted to float64 by StandardScaler.\n",
      "  return self.partial_fit(X, y)\n",
      "C:\\Users\\Shakk17\\Anaconda3\\lib\\site-packages\\sklearn\\base.py:464: DataConversionWarning: Data with input dtype int64, float64 were all converted to float64 by StandardScaler.\n",
      "  return self.fit(X, **fit_params).transform(X)\n"
     ]
    }
   ],
   "source": [
    "x = pd.DataFrame(data=StandardScaler().fit_transform(x), columns=x.columns, index=x.index)"
   ]
  },
  {
   "cell_type": "markdown",
   "metadata": {
    "colab_type": "text",
    "id": "uHtPSW8QLmAz"
   },
   "source": [
    "We split the data for **training** (80%) and **testing** (20%). <br>\n",
    "Using **stratification** allows us to keep a balanced amount of values for each set."
   ]
  },
  {
   "cell_type": "code",
   "execution_count": 4,
   "metadata": {
    "colab": {
     "base_uri": "https://localhost:8080/",
     "height": 267
    },
    "colab_type": "code",
    "id": "z_20W1dULmA0",
    "outputId": "e5dd00cc-df79-404b-8a82-ba9532dc46a2"
   },
   "outputs": [
    {
     "data": {
      "text/html": [
       "<div>\n",
       "<style scoped>\n",
       "    .dataframe tbody tr th:only-of-type {\n",
       "        vertical-align: middle;\n",
       "    }\n",
       "\n",
       "    .dataframe tbody tr th {\n",
       "        vertical-align: top;\n",
       "    }\n",
       "\n",
       "    .dataframe thead th {\n",
       "        text-align: right;\n",
       "    }\n",
       "</style>\n",
       "<table border=\"1\" class=\"dataframe\">\n",
       "  <thead>\n",
       "    <tr style=\"text-align: right;\">\n",
       "      <th></th>\n",
       "      <th>Music</th>\n",
       "      <th>Slow songs or fast songs</th>\n",
       "      <th>Dance</th>\n",
       "      <th>Folk</th>\n",
       "      <th>Country</th>\n",
       "      <th>Classical music</th>\n",
       "      <th>Musical</th>\n",
       "      <th>Pop</th>\n",
       "      <th>Rock</th>\n",
       "      <th>Metal or Hardrock</th>\n",
       "      <th>...</th>\n",
       "      <th>Age</th>\n",
       "      <th>Height</th>\n",
       "      <th>Weight</th>\n",
       "      <th>Number of siblings</th>\n",
       "      <th>Education</th>\n",
       "      <th>Only child</th>\n",
       "      <th>Female</th>\n",
       "      <th>Right handed</th>\n",
       "      <th>Living in a city</th>\n",
       "      <th>Living in a flat</th>\n",
       "    </tr>\n",
       "  </thead>\n",
       "  <tbody>\n",
       "    <tr>\n",
       "      <th>890</th>\n",
       "      <td>0.401057</td>\n",
       "      <td>-0.393689</td>\n",
       "      <td>-0.956114</td>\n",
       "      <td>-0.253446</td>\n",
       "      <td>0.812691</td>\n",
       "      <td>-1.567909</td>\n",
       "      <td>-0.607303</td>\n",
       "      <td>0.452080</td>\n",
       "      <td>-0.648204</td>\n",
       "      <td>-0.989025</td>\n",
       "      <td>...</td>\n",
       "      <td>0.868028</td>\n",
       "      <td>0.938933</td>\n",
       "      <td>1.522071</td>\n",
       "      <td>0.705455</td>\n",
       "      <td>0.915760</td>\n",
       "      <td>-0.581192</td>\n",
       "      <td>-1.209097</td>\n",
       "      <td>-3.003331</td>\n",
       "      <td>0.647506</td>\n",
       "      <td>0.828775</td>\n",
       "    </tr>\n",
       "    <tr>\n",
       "      <th>189</th>\n",
       "      <td>0.401057</td>\n",
       "      <td>-0.393689</td>\n",
       "      <td>-0.956114</td>\n",
       "      <td>2.382746</td>\n",
       "      <td>-0.117956</td>\n",
       "      <td>0.835525</td>\n",
       "      <td>1.772819</td>\n",
       "      <td>1.314906</td>\n",
       "      <td>-1.491711</td>\n",
       "      <td>-0.989025</td>\n",
       "      <td>...</td>\n",
       "      <td>2.963845</td>\n",
       "      <td>-1.382624</td>\n",
       "      <td>0.333824</td>\n",
       "      <td>0.705455</td>\n",
       "      <td>2.193742</td>\n",
       "      <td>-0.581192</td>\n",
       "      <td>0.827063</td>\n",
       "      <td>0.332964</td>\n",
       "      <td>-1.544388</td>\n",
       "      <td>-1.206599</td>\n",
       "    </tr>\n",
       "    <tr>\n",
       "      <th>31</th>\n",
       "      <td>-1.121135</td>\n",
       "      <td>-0.393689</td>\n",
       "      <td>0.757708</td>\n",
       "      <td>-1.132177</td>\n",
       "      <td>0.812691</td>\n",
       "      <td>-0.766764</td>\n",
       "      <td>0.186071</td>\n",
       "      <td>1.314906</td>\n",
       "      <td>-0.648204</td>\n",
       "      <td>-0.989025</td>\n",
       "      <td>...</td>\n",
       "      <td>0.868028</td>\n",
       "      <td>0.358544</td>\n",
       "      <td>0.927948</td>\n",
       "      <td>-0.290131</td>\n",
       "      <td>-0.362223</td>\n",
       "      <td>-0.581192</td>\n",
       "      <td>0.827063</td>\n",
       "      <td>0.332964</td>\n",
       "      <td>0.647506</td>\n",
       "      <td>0.828775</td>\n",
       "    </tr>\n",
       "    <tr>\n",
       "      <th>368</th>\n",
       "      <td>0.401057</td>\n",
       "      <td>0.805328</td>\n",
       "      <td>-0.099203</td>\n",
       "      <td>0.625284</td>\n",
       "      <td>-0.117956</td>\n",
       "      <td>0.835525</td>\n",
       "      <td>0.186071</td>\n",
       "      <td>1.314906</td>\n",
       "      <td>1.038810</td>\n",
       "      <td>0.466192</td>\n",
       "      <td>...</td>\n",
       "      <td>-0.179881</td>\n",
       "      <td>-0.802235</td>\n",
       "      <td>-0.854423</td>\n",
       "      <td>0.705455</td>\n",
       "      <td>-0.362223</td>\n",
       "      <td>-0.581192</td>\n",
       "      <td>0.827063</td>\n",
       "      <td>0.332964</td>\n",
       "      <td>-1.544388</td>\n",
       "      <td>-1.206599</td>\n",
       "    </tr>\n",
       "    <tr>\n",
       "      <th>925</th>\n",
       "      <td>0.401057</td>\n",
       "      <td>-0.393689</td>\n",
       "      <td>0.757708</td>\n",
       "      <td>-0.253446</td>\n",
       "      <td>-0.117956</td>\n",
       "      <td>-1.567909</td>\n",
       "      <td>0.186071</td>\n",
       "      <td>1.314906</td>\n",
       "      <td>-0.648204</td>\n",
       "      <td>-0.261416</td>\n",
       "      <td>...</td>\n",
       "      <td>-0.179881</td>\n",
       "      <td>-1.382624</td>\n",
       "      <td>-1.448547</td>\n",
       "      <td>-0.290131</td>\n",
       "      <td>-0.362223</td>\n",
       "      <td>-0.581192</td>\n",
       "      <td>0.827063</td>\n",
       "      <td>0.332964</td>\n",
       "      <td>0.647506</td>\n",
       "      <td>0.828775</td>\n",
       "    </tr>\n",
       "  </tbody>\n",
       "</table>\n",
       "<p>5 rows × 149 columns</p>\n",
       "</div>"
      ],
      "text/plain": [
       "        Music  Slow songs or fast songs     Dance      Folk   Country  \\\n",
       "890  0.401057                 -0.393689 -0.956114 -0.253446  0.812691   \n",
       "189  0.401057                 -0.393689 -0.956114  2.382746 -0.117956   \n",
       "31  -1.121135                 -0.393689  0.757708 -1.132177  0.812691   \n",
       "368  0.401057                  0.805328 -0.099203  0.625284 -0.117956   \n",
       "925  0.401057                 -0.393689  0.757708 -0.253446 -0.117956   \n",
       "\n",
       "     Classical music   Musical       Pop      Rock  Metal or Hardrock  ...  \\\n",
       "890        -1.567909 -0.607303  0.452080 -0.648204          -0.989025  ...   \n",
       "189         0.835525  1.772819  1.314906 -1.491711          -0.989025  ...   \n",
       "31         -0.766764  0.186071  1.314906 -0.648204          -0.989025  ...   \n",
       "368         0.835525  0.186071  1.314906  1.038810           0.466192  ...   \n",
       "925        -1.567909  0.186071  1.314906 -0.648204          -0.261416  ...   \n",
       "\n",
       "          Age    Height    Weight  Number of siblings  Education  Only child  \\\n",
       "890  0.868028  0.938933  1.522071            0.705455   0.915760   -0.581192   \n",
       "189  2.963845 -1.382624  0.333824            0.705455   2.193742   -0.581192   \n",
       "31   0.868028  0.358544  0.927948           -0.290131  -0.362223   -0.581192   \n",
       "368 -0.179881 -0.802235 -0.854423            0.705455  -0.362223   -0.581192   \n",
       "925 -0.179881 -1.382624 -1.448547           -0.290131  -0.362223   -0.581192   \n",
       "\n",
       "       Female  Right handed  Living in a city  Living in a flat  \n",
       "890 -1.209097     -3.003331          0.647506          0.828775  \n",
       "189  0.827063      0.332964         -1.544388         -1.206599  \n",
       "31   0.827063      0.332964          0.647506          0.828775  \n",
       "368  0.827063      0.332964         -1.544388         -1.206599  \n",
       "925  0.827063      0.332964          0.647506          0.828775  \n",
       "\n",
       "[5 rows x 149 columns]"
      ]
     },
     "execution_count": 4,
     "metadata": {},
     "output_type": "execute_result"
    }
   ],
   "source": [
    "x_train, x_test, y_train, y_test = train_test_split(x, y, test_size=0.20, random_state=17, stratify=y)\n",
    "\n",
    "x_train.head()"
   ]
  },
  {
   "cell_type": "markdown",
   "metadata": {},
   "source": [
    "How many values are present in the training set?"
   ]
  },
  {
   "cell_type": "code",
   "execution_count": 5,
   "metadata": {
    "colab": {
     "base_uri": "https://localhost:8080/",
     "height": 68
    },
    "colab_type": "code",
    "id": "aSqfYcvKLmA2",
    "outputId": "7937de39-1bcf-4160-f394-bb5acdb5be20"
   },
   "outputs": [
    {
     "data": {
      "text/plain": [
       "0.0    510\n",
       "1.0    291\n",
       "Name: Smoker, dtype: int64"
      ]
     },
     "execution_count": 5,
     "metadata": {},
     "output_type": "execute_result"
    }
   ],
   "source": [
    "y_train.value_counts()"
   ]
  },
  {
   "cell_type": "markdown",
   "metadata": {},
   "source": [
    "## Models definition"
   ]
  },
  {
   "cell_type": "markdown",
   "metadata": {
    "colab_type": "text",
    "id": "vcJx-wIbLmA4"
   },
   "source": [
    "We define a <b>baseline</b> by using a **dummy classifier** that classifies everything as the most frequent class in the training dataset, <i>'No'</i>."
   ]
  },
  {
   "cell_type": "code",
   "execution_count": 6,
   "metadata": {
    "colab": {
     "base_uri": "https://localhost:8080/",
     "height": 34
    },
    "colab_type": "code",
    "id": "t5PDNU30LmA6",
    "outputId": "28232fe0-0ca5-45af-a85d-5e38342b7d83"
   },
   "outputs": [
    {
     "name": "stdout",
     "output_type": "stream",
     "text": [
      "Accuracy: 63.7%\n"
     ]
    }
   ],
   "source": [
    "model_dummy = DummyClassifier(strategy=\"most_frequent\")\n",
    "model_dummy.fit(x_train, y_train)\n",
    "\n",
    "print(\"Accuracy: %.1f%%\" % (model_dummy.score(x_test, y_test) * 100))"
   ]
  },
  {
   "cell_type": "markdown",
   "metadata": {
    "colab_type": "text",
    "id": "z0v1AzdCLmA-"
   },
   "source": [
    "<p>We add a few models to try and get a first glance at what could be successful. </p>\n",
    "<p>In this step:\n",
    "    <ul>\n",
    "        <li>the hyper-parameters have been already reported back after the tuning in order to reduce the computation time in case of a re-run of the notebook.</li>\n",
    "        <li>the underperforming models have been already commented out.</li>\n",
    "    </ul>\n",
    "</p>"
   ]
  },
  {
   "cell_type": "code",
   "execution_count": 7,
   "metadata": {
    "colab": {},
    "colab_type": "code",
    "id": "RC6XI99eLmA-"
   },
   "outputs": [],
   "source": [
    "names = [\n",
    "    \"SVM\",\n",
    "    \"Random Forest\",\n",
    "    \"AdaBoost\",\n",
    "    \"Logistic Reg.\",\n",
    "    \n",
    "    # \"Naive Bayes\",\n",
    "    # \"MLP Classifier\",\n",
    "    # \"Nearest Neighbors\"\n",
    "]\n",
    "\n",
    "classifiers = [\n",
    "    SVC(kernel='rbf', gamma='scale', probability=True, random_state=17),\n",
    "    RandomForestClassifier(n_estimators=110, max_depth=6, random_state=17),\n",
    "    AdaBoostClassifier(learning_rate=0.4, n_estimators=70, random_state=17),\n",
    "    LogisticRegression(solver='saga', penalty='l1', C=0.07, max_iter=200, random_state=17),\n",
    "    \n",
    "    # GaussianNB(),\n",
    "    # MLPClassifier(hidden_layer_sizes=(150, ), early_stopping=True, max_iter=400, random_state=17),\n",
    "    # KNeighborsClassifier(n_neighbors=5, weights='uniform')\n",
    "]"
   ]
  },
  {
   "cell_type": "markdown",
   "metadata": {},
   "source": [
    "### Hyperparameters tuning"
   ]
  },
  {
   "cell_type": "code",
   "execution_count": 8,
   "metadata": {
    "colab": {},
    "colab_type": "code",
    "id": "RC6XI99eLmA-"
   },
   "outputs": [],
   "source": [
    "parameters = [\n",
    "    {\n",
    "        #\"C\": [0.7, 0.8, 0.9],\n",
    "        #\"kernel\": ['linear', 'rbf', 'poly']\n",
    "    },\n",
    "    {\n",
    "        #\"n_estimators\": [100, 110, 120],\n",
    "        #\"max_depth\": [5, 6, 7]\n",
    "    },\n",
    "    {\n",
    "        #\"learning_rate\": [0.3, 0.4, 0.5],\n",
    "        #\"n_estimators\": [50, 60, 70, 80]\n",
    "    },\n",
    "    {\n",
    "        #\"C\": [0.03, 0.05, 0.07],\n",
    "        #\"penalty\": ['l1', 'l2']\n",
    "    },\n",
    "    \n",
    "    # Discarded models\n",
    "    \n",
    "    {\n",
    "        \n",
    "    },\n",
    "    {\n",
    "        #\"alpha\": [0.0001, 0.001, 0.01, 0.1, 1],\n",
    "        #\"hidden_layer_sizes\": [(150, ), (200, ), (250, )]\n",
    "    },\n",
    "    {\n",
    "        #\"n_neighbors\": [1, 3, 5, 7],\n",
    "        #\"weights\": ['uniform', 'distance']\n",
    "    },\n",
    "]"
   ]
  },
  {
   "cell_type": "markdown",
   "metadata": {
    "colab_type": "text",
    "id": "4ErYnrlTLmBA"
   },
   "source": [
    "For each model proposed we use **cross-validation** to calculate its accuracy on the training dataset."
   ]
  },
  {
   "cell_type": "code",
   "execution_count": 9,
   "metadata": {
    "colab": {
     "base_uri": "https://localhost:8080/",
     "height": 255
    },
    "colab_type": "code",
    "id": "a6uxA9Z7LmBA",
    "outputId": "cbb2f324-2d25-4c91-9e8f-691fb03da305"
   },
   "outputs": [
    {
     "name": "stdout",
     "output_type": "stream",
     "text": [
      "SVM - Mean: 0.669 - Std: 0.012\n",
      "Best parameters: {}\n",
      "Random Forest - Mean: 0.672 - Std: 0.005\n",
      "Best parameters: {}\n",
      "AdaBoost - Mean: 0.685 - Std: 0.024\n",
      "Best parameters: {}\n",
      "Logistic Reg. - Mean: 0.677 - Std: 0.006\n",
      "Best parameters: {}\n"
     ]
    }
   ],
   "source": [
    "acc_mean = dict()\n",
    "acc_std = dict()\n",
    "\n",
    "for name, clf, par in zip(names, classifiers, parameters):\n",
    "    grid_obj = GridSearchCV(clf, par, cv=3)\n",
    "    grid_obj = grid_obj.fit(x_train, y_train)\n",
    "    # Set the clf to the best combination of parameters\n",
    "    clf = grid_obj.best_estimator_\n",
    "    \n",
    "    # Show mean accuracy of models on the validation sets.\n",
    "    print(\"%s - Mean: %.3f - Std: %.3f\" % (\n",
    "        name, \n",
    "        grid_obj.best_score_, \n",
    "        grid_obj.cv_results_['std_test_score'][grid_obj.best_index_]\n",
    "    ))\n",
    "    print(\"Best parameters: %s\" % (grid_obj.best_params_))\n",
    "    \n",
    "    acc_mean[name] = grid_obj.best_score_\n",
    "    acc_std[name] = grid_obj.cv_results_['std_test_score'][grid_obj.best_index_]"
   ]
  },
  {
   "cell_type": "code",
   "execution_count": 10,
   "metadata": {},
   "outputs": [
    {
     "data": {
      "image/png": "[encoded data removed]",
      "text/plain": [
       "<Figure size 432x288 with 1 Axes>"
      ]
     },
     "metadata": {
      "needs_background": "light"
     },
     "output_type": "display_data"
    }
   ],
   "source": [
    "acc = pd.Series(acc_mean)\n",
    "ax = sns.barplot(x=acc.index, y=acc)\n",
    "ax.set(ylim=(0.6, None))\n",
    "ax.set_title(\"Validation accuracy\")\n",
    "ax.set_ylabel(\"Accuracy\");"
   ]
  },
  {
   "cell_type": "markdown",
   "metadata": {},
   "source": [
    "**AdaBoost** looks to be the best model after cross-validation. <br>\n",
    "Let's run a **t-test** to check if there is a sizeable difference between **AdaBoost** and **Logistic Regression**. <br>\n",
    "The **null hypothesis** says that the two algorithm have no statistical significant difference."
   ]
  },
  {
   "cell_type": "code",
   "execution_count": 11,
   "metadata": {},
   "outputs": [
    {
     "name": "stdout",
     "output_type": "stream",
     "text": [
      "t-value = 1.093\n",
      "p-value = 0.289\n"
     ]
    }
   ],
   "source": [
    "N = 10\n",
    "\n",
    "var_a = acc_std['AdaBoost']**2\n",
    "var_b = acc_std['Logistic Reg.']**2\n",
    "s = np.sqrt((var_a + var_b)/2)\n",
    "\n",
    "t = (acc_mean['AdaBoost'] - acc_mean['Logistic Reg.']) / (s*np.sqrt(2/N))\n",
    "\n",
    "# Degrees of freedom.\n",
    "df = 2*N - 2\n",
    "\n",
    "# p-value after comparison with the t.\n",
    "p = 1 - stats.t.cdf(t, df=df)\n",
    "\n",
    "\n",
    "print(\"t-value = %.3f\" % (t))\n",
    "print(\"p-value = %.3f\" % (2*p))"
   ]
  },
  {
   "cell_type": "markdown",
   "metadata": {},
   "source": [
    "We use the typical value of **alpha**, 0.05. This means that there is a **95% confidence** that the conclusion of this test will be valid. <br>\n",
    "The **t-value critical** is 2.101 in this case. We can notice that the t-value calculated is smaller than the critical one. <br>\n",
    "Therefore, **the null hypothesis is accepted**."
   ]
  },
  {
   "cell_type": "markdown",
   "metadata": {},
   "source": [
    "But how do these models behave with unknown data? Let's see their accuracy on the test dataset."
   ]
  },
  {
   "cell_type": "code",
   "execution_count": 12,
   "metadata": {
    "colab": {
     "base_uri": "https://localhost:8080/",
     "height": 493
    },
    "colab_type": "code",
    "id": "9glbI4xdLmBC",
    "outputId": "cb624f2c-7860-430f-d3e9-22f8e6e2667b"
   },
   "outputs": [
    {
     "name": "stdout",
     "output_type": "stream",
     "text": [
      "SVM: \n",
      "[[113  15]\n",
      " [ 51  22]]\n",
      "\n",
      "Random Forest: \n",
      "[[124   4]\n",
      " [ 61  12]]\n",
      "\n",
      "AdaBoost: \n",
      "[[109  19]\n",
      " [ 45  28]]\n",
      "\n",
      "Logistic Reg.: \n",
      "[[110  18]\n",
      " [ 42  31]]\n",
      "\n"
     ]
    }
   ],
   "source": [
    "stats = dict()\n",
    "for name, clf in zip(names, classifiers):\n",
    "    t0 = time()\n",
    "    clf.fit(x_train, y_train)\n",
    "    t1 = time()\n",
    "    y_pred = clf.predict(x_test)\n",
    "    score = clf.score(x_test, y_test)\n",
    "    prec, rec, f1, supp = precision_recall_fscore_support(y_test, y_pred)\n",
    "    mcc = matthews_corrcoef(y_test, y_pred)\n",
    "    \n",
    "    # Save results for plotting.\n",
    "    stats[name] = [t1-t0, score, prec[0], rec[0], f1[0], mcc]\n",
    "    \n",
    "    # Prints confusion matrix.\n",
    "    cm = confusion_matrix(y_test, y_pred)\n",
    "    print(\"%s: \\n%s\" % (name, cm), end='\\n\\n')"
   ]
  },
  {
   "cell_type": "markdown",
   "metadata": {},
   "source": [
    "### Metrics comparison"
   ]
  },
  {
   "cell_type": "markdown",
   "metadata": {},
   "source": [
    "Let's have a look to the metrics. The graphs are pretty much self-explanatory."
   ]
  },
  {
   "cell_type": "code",
   "execution_count": 13,
   "metadata": {},
   "outputs": [
    {
     "data": {
      "text/html": [
       "<div>\n",
       "<style scoped>\n",
       "    .dataframe tbody tr th:only-of-type {\n",
       "        vertical-align: middle;\n",
       "    }\n",
       "\n",
       "    .dataframe tbody tr th {\n",
       "        vertical-align: top;\n",
       "    }\n",
       "\n",
       "    .dataframe thead th {\n",
       "        text-align: right;\n",
       "    }\n",
       "</style>\n",
       "<table border=\"1\" class=\"dataframe\">\n",
       "  <thead>\n",
       "    <tr style=\"text-align: right;\">\n",
       "      <th></th>\n",
       "      <th>Time</th>\n",
       "      <th>Accuracy</th>\n",
       "      <th>Precision</th>\n",
       "      <th>Recall</th>\n",
       "      <th>F1 score</th>\n",
       "      <th>MCC</th>\n",
       "    </tr>\n",
       "  </thead>\n",
       "  <tbody>\n",
       "    <tr>\n",
       "      <th>SVM</th>\n",
       "      <td>0.562032</td>\n",
       "      <td>0.671642</td>\n",
       "      <td>0.689024</td>\n",
       "      <td>0.882812</td>\n",
       "      <td>0.773973</td>\n",
       "      <td>0.228555</td>\n",
       "    </tr>\n",
       "    <tr>\n",
       "      <th>Random Forest</th>\n",
       "      <td>0.131655</td>\n",
       "      <td>0.676617</td>\n",
       "      <td>0.670270</td>\n",
       "      <td>0.968750</td>\n",
       "      <td>0.792332</td>\n",
       "      <td>0.236542</td>\n",
       "    </tr>\n",
       "    <tr>\n",
       "      <th>AdaBoost</th>\n",
       "      <td>0.178533</td>\n",
       "      <td>0.681592</td>\n",
       "      <td>0.707792</td>\n",
       "      <td>0.851562</td>\n",
       "      <td>0.773050</td>\n",
       "      <td>0.267149</td>\n",
       "    </tr>\n",
       "    <tr>\n",
       "      <th>Logistic Reg.</th>\n",
       "      <td>0.057848</td>\n",
       "      <td>0.701493</td>\n",
       "      <td>0.723684</td>\n",
       "      <td>0.859375</td>\n",
       "      <td>0.785714</td>\n",
       "      <td>0.318137</td>\n",
       "    </tr>\n",
       "  </tbody>\n",
       "</table>\n",
       "</div>"
      ],
      "text/plain": [
       "                   Time  Accuracy  Precision    Recall  F1 score       MCC\n",
       "SVM            0.562032  0.671642   0.689024  0.882812  0.773973  0.228555\n",
       "Random Forest  0.131655  0.676617   0.670270  0.968750  0.792332  0.236542\n",
       "AdaBoost       0.178533  0.681592   0.707792  0.851562  0.773050  0.267149\n",
       "Logistic Reg.  0.057848  0.701493   0.723684  0.859375  0.785714  0.318137"
      ]
     },
     "execution_count": 13,
     "metadata": {},
     "output_type": "execute_result"
    }
   ],
   "source": [
    "s = pd.DataFrame.from_dict(stats, orient='index', columns=['Time', 'Accuracy', 'Precision', 'Recall', 'F1 score', 'MCC'])\n",
    "s.head()"
   ]
  },
  {
   "cell_type": "code",
   "execution_count": 14,
   "metadata": {},
   "outputs": [
    {
     "data": {
      "image/png": "[encoded data removed]",
      "text/plain": [
       "<Figure size 432x288 with 1 Axes>"
      ]
     },
     "metadata": {
      "needs_background": "light"
     },
     "output_type": "display_data"
    }
   ],
   "source": [
    "ax = sns.barplot(data=s, x=s.index, y='Time')\n",
    "ax.set_title(\"Training time comparison\");"
   ]
  },
  {
   "cell_type": "code",
   "execution_count": 15,
   "metadata": {},
   "outputs": [
    {
     "data": {
      "image/png": "[encoded data removed]",
      "text/plain": [
       "<Figure size 432x288 with 1 Axes>"
      ]
     },
     "metadata": {
      "needs_background": "light"
     },
     "output_type": "display_data"
    }
   ],
   "source": [
    "ax = sns.barplot(data=s, x=s.index, y='Accuracy')\n",
    "ax.set_title(\"Accuracy comparison\")\n",
    "ax.set(ylim=(0.6, None));"
   ]
  },
  {
   "cell_type": "code",
   "execution_count": 16,
   "metadata": {},
   "outputs": [
    {
     "data": {
      "image/png": "[encoded data removed]",
      "text/plain": [
       "<Figure size 864x432 with 1 Axes>"
      ]
     },
     "metadata": {
      "needs_background": "light"
     },
     "output_type": "display_data"
    }
   ],
   "source": [
    "ax = s[['Precision','Recall','F1 score']].plot(kind='bar', figsize=(12, 6), rot=0);\n",
    "ax.set_ylim((0.5, None));"
   ]
  },
  {
   "cell_type": "code",
   "execution_count": 17,
   "metadata": {},
   "outputs": [
    {
     "data": {
      "image/png": "[encoded data removed]",
      "text/plain": [
       "<Figure size 432x288 with 1 Axes>"
      ]
     },
     "metadata": {
      "needs_background": "light"
     },
     "output_type": "display_data"
    }
   ],
   "source": [
    "ax = sns.barplot(data=s, x=s.index, y='MCC')\n",
    "ax.set_title(\"MCC comparison\");"
   ]
  },
  {
   "cell_type": "code",
   "execution_count": null,
   "metadata": {},
   "outputs": [],
   "source": []
  }
 ],
 "metadata": {
  "accelerator": "GPU",
  "colab": {
   "name": "modeling.ipynb",
   "provenance": [],
   "version": "0.3.2"
  },
  "kernelspec": {
   "display_name": "Python 3",
   "language": "python",
   "name": "python3"
  },
  "language_info": {
   "codemirror_mode": {
    "name": "ipython",
    "version": 3
   },
   "file_extension": ".py",
   "mimetype": "text/x-python",
   "name": "python",
   "nbconvert_exporter": "python",
   "pygments_lexer": "ipython3",
   "version": "3.7.3"
  }
 },
 "nbformat": 4,
 "nbformat_minor": 1
}
