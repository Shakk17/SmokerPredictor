{
 "cells": [
  {
   "cell_type": "markdown",
   "metadata": {},
   "source": [
    "# Data modeling"
   ]
  },
  {
   "cell_type": "code",
   "execution_count": 89,
   "metadata": {},
   "outputs": [],
   "source": [
    "import pandas as pd\n",
    "import numpy as np\n",
    "\n",
    "from sklearn.model_selection import train_test_split\n",
    "from sklearn.preprocessing import StandardScaler\n",
    "from sklearn.model_selection import cross_val_score, GridSearchCV\n",
    "\n",
    "from sklearn.dummy import DummyClassifier\n",
    "from sklearn.neighbors import KNeighborsClassifier\n",
    "from sklearn.svm import SVC\n",
    "from sklearn.gaussian_process import GaussianProcessClassifier\n",
    "from sklearn.gaussian_process.kernels import RBF\n",
    "from sklearn.ensemble import RandomForestClassifier, AdaBoostClassifier\n",
    "from sklearn.naive_bayes import GaussianNB"
   ]
  },
  {
   "cell_type": "markdown",
   "metadata": {},
   "source": [
    "We load the data precedently cleaned in data_analysis.ipynb."
   ]
  },
  {
   "cell_type": "code",
   "execution_count": 90,
   "metadata": {},
   "outputs": [],
   "source": [
    "data = pd.read_csv(\"data/clean_data.csv\")\n",
    "x = data.drop(\"Smoking\", axis=1)\n",
    "y = data[\"Smoking\"]"
   ]
  },
  {
   "cell_type": "markdown",
   "metadata": {},
   "source": [
    "We scale data."
   ]
  },
  {
   "cell_type": "code",
   "execution_count": 91,
   "metadata": {},
   "outputs": [
    {
     "name": "stderr",
     "output_type": "stream",
     "text": [
      "C:\\Users\\Shakk17\\Anaconda3\\lib\\site-packages\\sklearn\\preprocessing\\data.py:645: DataConversionWarning: Data with input dtype int64, float64 were all converted to float64 by StandardScaler.\n",
      "  return self.partial_fit(X, y)\n",
      "C:\\Users\\Shakk17\\Anaconda3\\lib\\site-packages\\sklearn\\base.py:464: DataConversionWarning: Data with input dtype int64, float64 were all converted to float64 by StandardScaler.\n",
      "  return self.fit(X, **fit_params).transform(X)\n"
     ]
    }
   ],
   "source": [
    "x = pd.DataFrame(data=StandardScaler().fit_transform(x), columns=x.columns, index=x.index)"
   ]
  },
  {
   "cell_type": "markdown",
   "metadata": {},
   "source": [
    "We split the data for training and testing."
   ]
  },
  {
   "cell_type": "code",
   "execution_count": 92,
   "metadata": {},
   "outputs": [
    {
     "data": {
      "text/html": [
       "<div>\n",
       "<style scoped>\n",
       "    .dataframe tbody tr th:only-of-type {\n",
       "        vertical-align: middle;\n",
       "    }\n",
       "\n",
       "    .dataframe tbody tr th {\n",
       "        vertical-align: top;\n",
       "    }\n",
       "\n",
       "    .dataframe thead th {\n",
       "        text-align: right;\n",
       "    }\n",
       "</style>\n",
       "<table border=\"1\" class=\"dataframe\">\n",
       "  <thead>\n",
       "    <tr style=\"text-align: right;\">\n",
       "      <th></th>\n",
       "      <th>Unnamed: 0</th>\n",
       "      <th>Music</th>\n",
       "      <th>Slow songs or fast songs</th>\n",
       "      <th>Dance</th>\n",
       "      <th>Folk</th>\n",
       "      <th>Country</th>\n",
       "      <th>Classical music</th>\n",
       "      <th>Musical</th>\n",
       "      <th>Pop</th>\n",
       "      <th>Rock</th>\n",
       "      <th>...</th>\n",
       "      <th>Age</th>\n",
       "      <th>Height</th>\n",
       "      <th>Weight</th>\n",
       "      <th>Number of siblings</th>\n",
       "      <th>Gender</th>\n",
       "      <th>Left - right handed</th>\n",
       "      <th>Education</th>\n",
       "      <th>Only child</th>\n",
       "      <th>Village - town</th>\n",
       "      <th>House - block of flats</th>\n",
       "    </tr>\n",
       "  </thead>\n",
       "  <tbody>\n",
       "    <tr>\n",
       "      <th>890</th>\n",
       "      <td>1.347152</td>\n",
       "      <td>0.401057</td>\n",
       "      <td>-0.393689</td>\n",
       "      <td>-0.956114</td>\n",
       "      <td>-0.253446</td>\n",
       "      <td>0.812691</td>\n",
       "      <td>-1.567909</td>\n",
       "      <td>-0.607303</td>\n",
       "      <td>0.452080</td>\n",
       "      <td>-0.648204</td>\n",
       "      <td>...</td>\n",
       "      <td>0.868028</td>\n",
       "      <td>1.456317</td>\n",
       "      <td>1.445711</td>\n",
       "      <td>0.705455</td>\n",
       "      <td>-1.209097</td>\n",
       "      <td>-3.003331</td>\n",
       "      <td>0.915760</td>\n",
       "      <td>-0.581192</td>\n",
       "      <td>0.647506</td>\n",
       "      <td>0.828775</td>\n",
       "    </tr>\n",
       "    <tr>\n",
       "      <th>189</th>\n",
       "      <td>-1.073451</td>\n",
       "      <td>0.401057</td>\n",
       "      <td>-0.393689</td>\n",
       "      <td>-0.956114</td>\n",
       "      <td>2.382746</td>\n",
       "      <td>-0.117956</td>\n",
       "      <td>0.835525</td>\n",
       "      <td>1.772819</td>\n",
       "      <td>1.314906</td>\n",
       "      <td>-1.491711</td>\n",
       "      <td>...</td>\n",
       "      <td>2.963845</td>\n",
       "      <td>-1.335131</td>\n",
       "      <td>0.075226</td>\n",
       "      <td>0.705455</td>\n",
       "      <td>0.827063</td>\n",
       "      <td>0.332964</td>\n",
       "      <td>2.193742</td>\n",
       "      <td>-0.581192</td>\n",
       "      <td>-1.544388</td>\n",
       "      <td>-1.206599</td>\n",
       "    </tr>\n",
       "    <tr>\n",
       "      <th>31</th>\n",
       "      <td>-1.622030</td>\n",
       "      <td>-1.121135</td>\n",
       "      <td>-0.393689</td>\n",
       "      <td>0.757708</td>\n",
       "      <td>-1.132177</td>\n",
       "      <td>0.812691</td>\n",
       "      <td>-0.766764</td>\n",
       "      <td>0.186071</td>\n",
       "      <td>1.314906</td>\n",
       "      <td>-0.648204</td>\n",
       "      <td>...</td>\n",
       "      <td>0.868028</td>\n",
       "      <td>0.758455</td>\n",
       "      <td>1.445711</td>\n",
       "      <td>-0.290131</td>\n",
       "      <td>0.827063</td>\n",
       "      <td>0.332964</td>\n",
       "      <td>-0.362223</td>\n",
       "      <td>-0.581192</td>\n",
       "      <td>0.647506</td>\n",
       "      <td>0.828775</td>\n",
       "    </tr>\n",
       "    <tr>\n",
       "      <th>368</th>\n",
       "      <td>-0.459729</td>\n",
       "      <td>0.401057</td>\n",
       "      <td>0.805328</td>\n",
       "      <td>-0.099203</td>\n",
       "      <td>0.625284</td>\n",
       "      <td>-0.117956</td>\n",
       "      <td>0.835525</td>\n",
       "      <td>0.186071</td>\n",
       "      <td>1.314906</td>\n",
       "      <td>1.038810</td>\n",
       "      <td>...</td>\n",
       "      <td>-0.179881</td>\n",
       "      <td>-0.637269</td>\n",
       "      <td>-0.610016</td>\n",
       "      <td>0.705455</td>\n",
       "      <td>0.827063</td>\n",
       "      <td>0.332964</td>\n",
       "      <td>-0.362223</td>\n",
       "      <td>-0.581192</td>\n",
       "      <td>-1.544388</td>\n",
       "      <td>-1.206599</td>\n",
       "    </tr>\n",
       "    <tr>\n",
       "      <th>925</th>\n",
       "      <td>1.467153</td>\n",
       "      <td>0.401057</td>\n",
       "      <td>-0.393689</td>\n",
       "      <td>0.757708</td>\n",
       "      <td>-0.253446</td>\n",
       "      <td>-0.117956</td>\n",
       "      <td>-1.567909</td>\n",
       "      <td>0.186071</td>\n",
       "      <td>1.314906</td>\n",
       "      <td>-0.648204</td>\n",
       "      <td>...</td>\n",
       "      <td>-0.179881</td>\n",
       "      <td>-1.335131</td>\n",
       "      <td>-1.295259</td>\n",
       "      <td>-0.290131</td>\n",
       "      <td>0.827063</td>\n",
       "      <td>0.332964</td>\n",
       "      <td>-0.362223</td>\n",
       "      <td>-0.581192</td>\n",
       "      <td>0.647506</td>\n",
       "      <td>0.828775</td>\n",
       "    </tr>\n",
       "  </tbody>\n",
       "</table>\n",
       "<p>5 rows × 150 columns</p>\n",
       "</div>"
      ],
      "text/plain": [
       "     Unnamed: 0     Music  Slow songs or fast songs     Dance      Folk  \\\n",
       "890    1.347152  0.401057                 -0.393689 -0.956114 -0.253446   \n",
       "189   -1.073451  0.401057                 -0.393689 -0.956114  2.382746   \n",
       "31    -1.622030 -1.121135                 -0.393689  0.757708 -1.132177   \n",
       "368   -0.459729  0.401057                  0.805328 -0.099203  0.625284   \n",
       "925    1.467153  0.401057                 -0.393689  0.757708 -0.253446   \n",
       "\n",
       "      Country  Classical music   Musical       Pop      Rock  ...       Age  \\\n",
       "890  0.812691        -1.567909 -0.607303  0.452080 -0.648204  ...  0.868028   \n",
       "189 -0.117956         0.835525  1.772819  1.314906 -1.491711  ...  2.963845   \n",
       "31   0.812691        -0.766764  0.186071  1.314906 -0.648204  ...  0.868028   \n",
       "368 -0.117956         0.835525  0.186071  1.314906  1.038810  ... -0.179881   \n",
       "925 -0.117956        -1.567909  0.186071  1.314906 -0.648204  ... -0.179881   \n",
       "\n",
       "       Height    Weight  Number of siblings    Gender  Left - right handed  \\\n",
       "890  1.456317  1.445711            0.705455 -1.209097            -3.003331   \n",
       "189 -1.335131  0.075226            0.705455  0.827063             0.332964   \n",
       "31   0.758455  1.445711           -0.290131  0.827063             0.332964   \n",
       "368 -0.637269 -0.610016            0.705455  0.827063             0.332964   \n",
       "925 -1.335131 -1.295259           -0.290131  0.827063             0.332964   \n",
       "\n",
       "     Education  Only child  Village - town  House - block of flats  \n",
       "890   0.915760   -0.581192        0.647506                0.828775  \n",
       "189   2.193742   -0.581192       -1.544388               -1.206599  \n",
       "31   -0.362223   -0.581192        0.647506                0.828775  \n",
       "368  -0.362223   -0.581192       -1.544388               -1.206599  \n",
       "925  -0.362223   -0.581192        0.647506                0.828775  \n",
       "\n",
       "[5 rows x 150 columns]"
      ]
     },
     "execution_count": 92,
     "metadata": {},
     "output_type": "execute_result"
    }
   ],
   "source": [
    "# We use stratify to keep a balanced amount of values for the target categories.\n",
    "x_train, x_test, y_train, y_test = train_test_split(x, y, test_size=0.20, random_state=17, stratify=y)\n",
    "x_train.head()"
   ]
  },
  {
   "cell_type": "code",
   "execution_count": 93,
   "metadata": {},
   "outputs": [
    {
     "data": {
      "text/plain": [
       "0.0    510\n",
       "1.0    291\n",
       "Name: Smoking, dtype: int64"
      ]
     },
     "execution_count": 93,
     "metadata": {},
     "output_type": "execute_result"
    }
   ],
   "source": [
    "y_train.value_counts()"
   ]
  },
  {
   "cell_type": "markdown",
   "metadata": {},
   "source": [
    "We define a baseline by using a dummy classifier that classifies everything as the most frequent class in the training dataset, \"not smoker\"."
   ]
  },
  {
   "cell_type": "code",
   "execution_count": 94,
   "metadata": {},
   "outputs": [
    {
     "name": "stdout",
     "output_type": "stream",
     "text": [
      "0.6368159203980099\n"
     ]
    }
   ],
   "source": [
    "model_dummy = DummyClassifier(strategy=\"most_frequent\")\n",
    "model_dummy.fit(x_train, y_train)\n",
    "print(model_dummy.score(x_test, y_test))"
   ]
  },
  {
   "cell_type": "markdown",
   "metadata": {},
   "source": [
    "We add a few models to try and get a first glance at what could be successful."
   ]
  },
  {
   "cell_type": "code",
   "execution_count": 95,
   "metadata": {},
   "outputs": [],
   "source": [
    "names = [\"Nearest Neighbors\",\n",
    "         \"Linear SVM\",\n",
    "         \"Random Forest\",\n",
    "         \"AdaBoost\",\n",
    "         \"Naive Bayes\"]\n",
    "\n",
    "classifiers = [\n",
    "    KNeighborsClassifier(),\n",
    "    SVC(kernel=\"linear\"),\n",
    "    RandomForestClassifier(n_estimators=100),\n",
    "    AdaBoostClassifier(),\n",
    "    GaussianNB()]\n",
    "\n",
    "parameters = [\n",
    "    {\"n_neighbors\": [6, 7, 8]},\n",
    "    {\"C\": [10, 12, 15]},\n",
    "    {\"n_estimators\": [90, 100, 110]},\n",
    "    {\"learning_rate\": [0.2, 0.3, 0.4]},\n",
    "    {}\n",
    "]"
   ]
  },
  {
   "cell_type": "markdown",
   "metadata": {},
   "source": [
    "For each model proposed we use cross-validation to calculate its accuracy on the training dataset."
   ]
  },
  {
   "cell_type": "code",
   "execution_count": 96,
   "metadata": {},
   "outputs": [
    {
     "name": "stdout",
     "output_type": "stream",
     "text": [
      "Nearest Neighbors: 0.652934\n",
      "{'n_neighbors': 7}\n",
      "Linear SVM: 0.674157\n",
      "{'C': 12}\n",
      "Random Forest: 0.675406\n",
      "{'n_estimators': 90}\n",
      "AdaBoost: 0.689139\n",
      "{'learning_rate': 0.3}\n",
      "Naive Bayes: 0.662921\n",
      "{}\n"
     ]
    }
   ],
   "source": [
    "for name, clf, par in zip(names, classifiers, parameters):\n",
    "    grid_obj = GridSearchCV(clf, par, cv=5)\n",
    "    grid_obj = grid_obj.fit(x_train, y_train)\n",
    "    # Set the clf to the best combination of parameters\n",
    "    clf = grid_obj.best_estimator_\n",
    "    # scores = cross_val_score(clf, x_train, y_train, cv=10)\n",
    "    print(\"%s: %f\" % (name, grid_obj.best_score_))\n",
    "    print(grid_obj.best_params_)"
   ]
  },
  {
   "cell_type": "code",
   "execution_count": 97,
   "metadata": {},
   "outputs": [
    {
     "name": "stdout",
     "output_type": "stream",
     "text": [
      "Nearest Neighbors: 0.661692\n",
      "Linear SVM: 0.641791\n",
      "Random Forest: 0.646766\n",
      "AdaBoost: 0.651741\n",
      "Naive Bayes: 0.611940\n"
     ]
    }
   ],
   "source": [
    "for name, clf in zip(names, classifiers):\n",
    "    clf.fit(x_train, y_train)\n",
    "    score = clf.score(x_test, y_test)\n",
    "    print(\"%s: %f\" % (name, score))"
   ]
  }
 ],
 "metadata": {
  "kernelspec": {
   "display_name": "Python 3",
   "language": "python",
   "name": "python3"
  },
  "language_info": {
   "codemirror_mode": {
    "name": "ipython",
    "version": 3
   },
   "file_extension": ".py",
   "mimetype": "text/x-python",
   "name": "python",
   "nbconvert_exporter": "python",
   "pygments_lexer": "ipython3",
   "version": "3.7.3"
  }
 },
 "nbformat": 4,
 "nbformat_minor": 2
}
